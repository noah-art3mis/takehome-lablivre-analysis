{
 "cells": [
  {
   "cell_type": "markdown",
   "id": "ad06a299",
   "metadata": {},
   "source": [
    "# Análise de projetos de infraestrutura com investimento federal no Distrito Federal\n"
   ]
  },
  {
   "cell_type": "markdown",
   "id": "d584d537",
   "metadata": {},
   "source": [
    "Teste avaliativo para vaga de bolsista em engenharia/análise de dados (LabLivre). Ver [material de referência](https://docs.google.com/document/d/1WWBnAodJoDo40WZ6ysI5cGx90KFYAp7GTFLrWPjmMFE/edit?tab=t.0)\n",
    "\n",
    "Fonte de dados: [obrasgov](https://api.obrasgov.gestao.gov.br/obrasgov/api/swagger-ui/index.html#/Projeto%20De%20Investimento/buscarPorFiltro)\n",
    "\n",
    "Relatório detalhado de tratamento de dados com visualizações. Para análises acessíveis ver a conclusão. Em resumo:\n",
    "\n",
    "-   ... TODO\n",
    "\n",
    "-   TOC\n",
    "\n",
    "Observação: IA (Cursor) foi usado para a produção deste relatório, principalmente para agilizar a produção de gráficos.\n"
   ]
  },
  {
   "cell_type": "code",
   "execution_count": 2,
   "id": "77a0fa04",
   "metadata": {},
   "outputs": [],
   "source": [
    "import json\n",
    "import time\n",
    "import requests\n",
    "import glob\n",
    "import sqlite3\n",
    "\n",
    "import pandas as pd\n",
    "import numpy as np\n",
    "import matplotlib.pyplot as plt\n",
    "import seaborn as sns\n",
    "\n",
    "# cores do lablivre\n",
    "palette = [\"#412355\", \"#F2701C\", \"#18CEE6\"]"
   ]
  },
  {
   "cell_type": "markdown",
   "id": "d1bdec96",
   "metadata": {},
   "source": [
    "## 1. Extração dos dados\n"
   ]
  },
  {
   "cell_type": "code",
   "execution_count": 3,
   "id": "699d4a2b",
   "metadata": {},
   "outputs": [],
   "source": [
    "# script de coleta de dados foi executado separadamente\n",
    "\n",
    "\n",
    "def get_data(page: int) -> dict:\n",
    "    url = \"https://api.obrasgov.gestao.gov.br/obrasgov/api/projeto-investimento\"\n",
    "    params = {\"uf\": \"DF\", \"pagina\": page, \"tamanhoDaPagina\": 100}\n",
    "    headers = {\"accept\": \"*/*\"}\n",
    "\n",
    "    response = requests.get(url, params=params, headers=headers)\n",
    "\n",
    "    if response.status_code != 200:\n",
    "        raise Exception(f\"Failed to get data: {response.status_code}\")\n",
    "\n",
    "    return response.json()\n",
    "\n",
    "\n",
    "def main():\n",
    "    # inelegante mas eficiente. certamente não tem 10000 itens\n",
    "    for page in range(100):\n",
    "        response = get_data(page)\n",
    "        print(f\"Page {page} processed\")\n",
    "\n",
    "        # salvar dados brutos primeiro para não depender da api caso ocorram problemas\n",
    "        with open(f\"data/data-{page}.json\", \"w\", encoding=\"utf-8\") as f:\n",
    "            json.dump(response[\"content\"], f, indent=4)\n",
    "        print(f\"Data saved to data/data-{page}.json\")\n",
    "\n",
    "        time.sleep(1)\n",
    "\n",
    "        page += 1\n",
    "\n",
    "\n",
    "# if __name__ == \"__main__\":\n",
    "#     main()"
   ]
  },
  {
   "cell_type": "markdown",
   "id": "48bc68ee",
   "metadata": {},
   "source": [
    "## 2. Tratamento de dados\n"
   ]
  },
  {
   "cell_type": "code",
   "execution_count": 4,
   "id": "287c3aff",
   "metadata": {},
   "outputs": [
    {
     "name": "stdout",
     "output_type": "stream",
     "text": [
      "<class 'pandas.core.frame.DataFrame'>\n",
      "RangeIndex: 834 entries, 0 to 833\n",
      "Data columns (total 31 columns):\n",
      " #   Column                              Non-Null Count  Dtype \n",
      "---  ------                              --------------  ----- \n",
      " 0   idUnico                             834 non-null    object\n",
      " 1   nome                                834 non-null    object\n",
      " 2   cep                                 400 non-null    object\n",
      " 3   endereco                            430 non-null    object\n",
      " 4   descricao                           834 non-null    object\n",
      " 5   funcaoSocial                        834 non-null    object\n",
      " 6   metaGlobal                          834 non-null    object\n",
      " 7   dataInicialPrevista                 832 non-null    object\n",
      " 8   dataFinalPrevista                   832 non-null    object\n",
      " 9   dataInicialEfetiva                  23 non-null     object\n",
      " 10  dataFinalEfetiva                    7 non-null      object\n",
      " 11  dataCadastro                        834 non-null    object\n",
      " 12  especie                             830 non-null    object\n",
      " 13  natureza                            834 non-null    object\n",
      " 14  naturezaOutras                      211 non-null    object\n",
      " 15  situacao                            834 non-null    object\n",
      " 16  descPlanoNacionalPoliticaVinculado  287 non-null    object\n",
      " 17  uf                                  834 non-null    object\n",
      " 18  qdtEmpregosGerados                  164 non-null    object\n",
      " 19  descPopulacaoBeneficiada            174 non-null    object\n",
      " 20  populacaoBeneficiada                169 non-null    object\n",
      " 21  observacoesPertinentes              129 non-null    object\n",
      " 22  isModeladaPorBim                    591 non-null    object\n",
      " 23  dataSituacao                        834 non-null    object\n",
      " 24  tomadores                           834 non-null    object\n",
      " 25  executores                          834 non-null    object\n",
      " 26  repassadores                        834 non-null    object\n",
      " 27  eixos                               834 non-null    object\n",
      " 28  tipos                               834 non-null    object\n",
      " 29  subTipos                            834 non-null    object\n",
      " 30  fontesDeRecurso                     834 non-null    object\n",
      "dtypes: object(31)\n",
      "memory usage: 2.3 MB\n"
     ]
    }
   ],
   "source": [
    "def load_json_files() -> list[dict]:\n",
    "    json_files = glob.glob(\"data/data-*.json\")\n",
    "    all_records = []\n",
    "\n",
    "    for file in json_files:\n",
    "        with open(file, \"r\", encoding=\"utf-8\") as f:\n",
    "            records = json.load(f)\n",
    "            all_records.extend(records)\n",
    "\n",
    "    return all_records\n",
    "\n",
    "\n",
    "df = pd.DataFrame(load_json_files())\n",
    "\n",
    "df.info(memory_usage=\"deep\")"
   ]
  },
  {
   "cell_type": "code",
   "execution_count": 5,
   "id": "a0a93b54",
   "metadata": {},
   "outputs": [],
   "source": [
    "nested_cols = [\n",
    "    \"tomadores\",\n",
    "    \"executores\",\n",
    "    \"repassadores\",\n",
    "    \"eixos\",\n",
    "    \"tipos\",\n",
    "    \"subTipos\",\n",
    "    \"fontesDeRecurso\",\n",
    "]"
   ]
  },
  {
   "cell_type": "markdown",
   "id": "cf345ab0",
   "metadata": {},
   "source": [
    "### 2.1 Duplicatas\n"
   ]
  },
  {
   "cell_type": "code",
   "execution_count": 6,
   "id": "9690b715",
   "metadata": {},
   "outputs": [
    {
     "name": "stdout",
     "output_type": "stream",
     "text": [
      "Columns with lists: ['tomadores', 'executores', 'repassadores', 'eixos', 'tipos', 'subTipos', 'fontesDeRecurso']\n",
      "Number of duplicate rows (not considering list columns): 122\n",
      "Number of duplicate rows: 87\n",
      "Number of 'false duplicate' rows: 70\n",
      "Unique idUnico values in false duplicates: 35\n",
      "Report written to duplicate_records_report.txt\n"
     ]
    }
   ],
   "source": [
    "from analyse_duplicates import check_duplicates, analyze_false_duplicates\n",
    "\n",
    "# existem duplicatas que só diferem no conteúdo das listas. não quero entediar você com esse código gerado por IA então movi para outro arquivo\n",
    "\n",
    "check_duplicates(df)\n",
    "analyze_false_duplicates(df, \"results/duplicate_records_report\")"
   ]
  },
  {
   "cell_type": "code",
   "execution_count": 7,
   "id": "bb2d3f4e",
   "metadata": {},
   "outputs": [],
   "source": [
    "# após investigação detalhada, todas as 'falsas duplicatas' se parecem com isso:\n",
    "\n",
    "# Linha 133: [{'id': 90, 'descricao': 'Preservação do Patrimônio', 'idTipo': 5}] (5 = Administrativo)\n",
    "# Linha 491: [{'id': 90, 'descricao': 'Preservação do Patrimônio', 'idTipo': 43}] (43 = Cultura)\n",
    "\n",
    "# para mais exemplos, consulte o relatório (`results/duplicate_records_report.txt`).\n",
    "# não tenho certeza do motivo disso; talvez os rótulos sejam ambíguos para as pessoas que preenchem algum formulário.\n",
    "# mas isso parece indicar que são, de fato, duplicatas. então serão removidas.\n",
    "\n",
    "df.duplicated(subset=[\"idUnico\"]).sum()\n",
    "df.drop_duplicates(subset=[\"idUnico\"], inplace=True)"
   ]
  },
  {
   "cell_type": "code",
   "execution_count": 8,
   "id": "55bc8b2b",
   "metadata": {},
   "outputs": [
    {
     "data": {
      "text/html": [
       "<div>\n",
       "<style scoped>\n",
       "    .dataframe tbody tr th:only-of-type {\n",
       "        vertical-align: middle;\n",
       "    }\n",
       "\n",
       "    .dataframe tbody tr th {\n",
       "        vertical-align: top;\n",
       "    }\n",
       "\n",
       "    .dataframe thead th {\n",
       "        text-align: right;\n",
       "    }\n",
       "</style>\n",
       "<table border=\"1\" class=\"dataframe\">\n",
       "  <thead>\n",
       "    <tr style=\"text-align: right;\">\n",
       "      <th></th>\n",
       "      <th>idUnico</th>\n",
       "      <th>nome</th>\n",
       "      <th>cep</th>\n",
       "      <th>endereco</th>\n",
       "      <th>descricao</th>\n",
       "      <th>funcaoSocial</th>\n",
       "      <th>metaGlobal</th>\n",
       "      <th>dataInicialPrevista</th>\n",
       "      <th>dataFinalPrevista</th>\n",
       "      <th>dataInicialEfetiva</th>\n",
       "      <th>dataFinalEfetiva</th>\n",
       "      <th>dataCadastro</th>\n",
       "      <th>especie</th>\n",
       "      <th>natureza</th>\n",
       "      <th>naturezaOutras</th>\n",
       "      <th>situacao</th>\n",
       "      <th>descPlanoNacionalPoliticaVinculado</th>\n",
       "      <th>uf</th>\n",
       "      <th>qdtEmpregosGerados</th>\n",
       "      <th>descPopulacaoBeneficiada</th>\n",
       "      <th>populacaoBeneficiada</th>\n",
       "      <th>observacoesPertinentes</th>\n",
       "      <th>isModeladaPorBim</th>\n",
       "      <th>dataSituacao</th>\n",
       "      <th>tomadores</th>\n",
       "      <th>executores</th>\n",
       "      <th>repassadores</th>\n",
       "      <th>eixos</th>\n",
       "      <th>tipos</th>\n",
       "      <th>subTipos</th>\n",
       "      <th>fontesDeRecurso</th>\n",
       "    </tr>\n",
       "  </thead>\n",
       "  <tbody>\n",
       "    <tr>\n",
       "      <th>0</th>\n",
       "      <td>1828.53-16</td>\n",
       "      <td>SISEG - Sistema integrado de segurança</td>\n",
       "      <td>1</td>\n",
       "      <td></td>\n",
       "      <td>implantação dos sistemas de monitoramento por ...</td>\n",
       "      <td>implantação dos sistemas de monitoramento por ...</td>\n",
       "      <td>Modernização do sistema de segurança do Banco ...</td>\n",
       "      <td>2019-02-04</td>\n",
       "      <td>2024-02-06</td>\n",
       "      <td>None</td>\n",
       "      <td>None</td>\n",
       "      <td>2021-05-12</td>\n",
       "      <td>Recuperação</td>\n",
       "      <td>Projeto</td>\n",
       "      <td></td>\n",
       "      <td>Cadastrada</td>\n",
       "      <td>None</td>\n",
       "      <td>DF</td>\n",
       "      <td>None</td>\n",
       "      <td>None</td>\n",
       "      <td>None</td>\n",
       "      <td>None</td>\n",
       "      <td>None</td>\n",
       "      <td>2021-05-12</td>\n",
       "      <td>[]</td>\n",
       "      <td>[{'nome': 'BANCO CENTRAL DO BRASIL', 'codigo':...</td>\n",
       "      <td>[]</td>\n",
       "      <td>[{'id': 1, 'descricao': 'Administrativo'}]</td>\n",
       "      <td>[{'id': 5, 'descricao': 'Administrativo', 'idE...</td>\n",
       "      <td>[{'id': 59, 'descricao': 'Obras em Imóveis de ...</td>\n",
       "      <td>[{'origem': 'Federal', 'valorInvestimentoPrevi...</td>\n",
       "    </tr>\n",
       "    <tr>\n",
       "      <th>1</th>\n",
       "      <td>1711.53-18</td>\n",
       "      <td>Reforma do espelho d'água do Edifício-Sede do ...</td>\n",
       "      <td>1</td>\n",
       "      <td></td>\n",
       "      <td>Reforma do espelho d'água do Edifício-Sede do ...</td>\n",
       "      <td>Reestabelecer a impermeabilização do espelho d...</td>\n",
       "      <td>Recuperação do sistema de impermeabilização e ...</td>\n",
       "      <td>2021-01-04</td>\n",
       "      <td>2021-05-18</td>\n",
       "      <td>None</td>\n",
       "      <td>None</td>\n",
       "      <td>2021-05-04</td>\n",
       "      <td>Reforma</td>\n",
       "      <td>Obra</td>\n",
       "      <td></td>\n",
       "      <td>Cadastrada</td>\n",
       "      <td>None</td>\n",
       "      <td>DF</td>\n",
       "      <td>None</td>\n",
       "      <td>None</td>\n",
       "      <td>None</td>\n",
       "      <td>None</td>\n",
       "      <td>None</td>\n",
       "      <td>2021-05-04</td>\n",
       "      <td>[{'nome': 'BANCO CENTRAL DO BRASIL', 'codigo':...</td>\n",
       "      <td>[{'nome': 'BANCO CENTRAL DO BRASIL', 'codigo':...</td>\n",
       "      <td>[]</td>\n",
       "      <td>[{'id': 1, 'descricao': 'Administrativo'}]</td>\n",
       "      <td>[{'id': 5, 'descricao': 'Administrativo', 'idE...</td>\n",
       "      <td>[{'id': 59, 'descricao': 'Obras em Imóveis de ...</td>\n",
       "      <td>[{'origem': 'Federal', 'valorInvestimentoPrevi...</td>\n",
       "    </tr>\n",
       "    <tr>\n",
       "      <th>2</th>\n",
       "      <td>1989.53-01</td>\n",
       "      <td>Elaboração de projetos arquitetônicos e de eng...</td>\n",
       "      <td>1</td>\n",
       "      <td>Campus Universitário Darcy Ribeiro, Brasília - DF</td>\n",
       "      <td>Contratação de empresa especializada para elab...</td>\n",
       "      <td>Obras para unidades acadêmicas de ensino e pes...</td>\n",
       "      <td>Elaboração de projetos de engenharia e Arquite...</td>\n",
       "      <td>2021-05-18</td>\n",
       "      <td>2021-09-29</td>\n",
       "      <td>None</td>\n",
       "      <td>None</td>\n",
       "      <td>2021-05-17</td>\n",
       "      <td>Construção</td>\n",
       "      <td>Projeto</td>\n",
       "      <td>None</td>\n",
       "      <td>Cadastrada</td>\n",
       "      <td>None</td>\n",
       "      <td>DF</td>\n",
       "      <td>None</td>\n",
       "      <td>None</td>\n",
       "      <td>None</td>\n",
       "      <td>None</td>\n",
       "      <td>None</td>\n",
       "      <td>2021-05-17</td>\n",
       "      <td>[]</td>\n",
       "      <td>[{'nome': 'FUNDACAO UNIVERSIDADE DE BRASILIA',...</td>\n",
       "      <td>[{'nome': 'FUNDACAO UNIVERSIDADE DE BRASILIA',...</td>\n",
       "      <td>[{'id': 1, 'descricao': 'Administrativo'}]</td>\n",
       "      <td>[{'id': 8, 'descricao': 'Educação', 'idEixo': 1}]</td>\n",
       "      <td>[{'id': 46, 'descricao': 'Instituições Federai...</td>\n",
       "      <td>[{'origem': 'Federal', 'valorInvestimentoPrevi...</td>\n",
       "    </tr>\n",
       "    <tr>\n",
       "      <th>3</th>\n",
       "      <td>2004.53-58</td>\n",
       "      <td>SISEG - Sistema integrado de segurança</td>\n",
       "      <td>1</td>\n",
       "      <td></td>\n",
       "      <td>implantação dos sistemas de monitoramento por ...</td>\n",
       "      <td>implantação dos sistemas de monitoramento por ...</td>\n",
       "      <td>Modernização do sistema de segurança do Banco ...</td>\n",
       "      <td>2019-02-04</td>\n",
       "      <td>2024-02-06</td>\n",
       "      <td>None</td>\n",
       "      <td>None</td>\n",
       "      <td>2021-05-18</td>\n",
       "      <td>Recuperação</td>\n",
       "      <td>Projeto</td>\n",
       "      <td></td>\n",
       "      <td>Cadastrada</td>\n",
       "      <td>None</td>\n",
       "      <td>DF</td>\n",
       "      <td>None</td>\n",
       "      <td>None</td>\n",
       "      <td>None</td>\n",
       "      <td>None</td>\n",
       "      <td>None</td>\n",
       "      <td>2021-05-18</td>\n",
       "      <td>[{'nome': 'BANCO CENTRAL DO BRASIL-ORC.FISCAL/...</td>\n",
       "      <td>[{'nome': 'BANCO CENTRAL DO BRASIL', 'codigo':...</td>\n",
       "      <td>[]</td>\n",
       "      <td>[{'id': 1, 'descricao': 'Administrativo'}]</td>\n",
       "      <td>[{'id': 5, 'descricao': 'Administrativo', 'idE...</td>\n",
       "      <td>[{'id': 59, 'descricao': 'Obras em Imóveis de ...</td>\n",
       "      <td>[{'origem': 'Federal', 'valorInvestimentoPrevi...</td>\n",
       "    </tr>\n",
       "    <tr>\n",
       "      <th>4</th>\n",
       "      <td>2617.53-02</td>\n",
       "      <td>CENTRO DE FORMAÇÃO TECNOLOGICA - CFT - CAMPUS ...</td>\n",
       "      <td>1</td>\n",
       "      <td>Área Especial n° 01, Quadra 16, Cidade do Auto...</td>\n",
       "      <td>construção um galpão com pé direito alto, que ...</td>\n",
       "      <td>atender a comunidade acadêmica do Campus Estru...</td>\n",
       "      <td>aumentar a oferta de cursos técnicos/tecnológi...</td>\n",
       "      <td>2020-12-01</td>\n",
       "      <td>2021-10-27</td>\n",
       "      <td>None</td>\n",
       "      <td>None</td>\n",
       "      <td>2021-06-18</td>\n",
       "      <td>Construção</td>\n",
       "      <td>Obra</td>\n",
       "      <td></td>\n",
       "      <td>Cadastrada</td>\n",
       "      <td>triplicar as matrículas da educação profission...</td>\n",
       "      <td>DF</td>\n",
       "      <td>None</td>\n",
       "      <td>None</td>\n",
       "      <td>None</td>\n",
       "      <td>None</td>\n",
       "      <td>None</td>\n",
       "      <td>2021-06-18</td>\n",
       "      <td>[{'nome': 'INSTITUTO FED. ED. CIENCIA E TEC. D...</td>\n",
       "      <td>[{'nome': 'INSTITUTO FED. ED. CIENCIA E TEC. D...</td>\n",
       "      <td>[{'nome': 'MINISTÉRIO DA EDUCAÇÃO', 'codigo': ...</td>\n",
       "      <td>[{'id': 4, 'descricao': 'Social'}]</td>\n",
       "      <td>[{'id': 46, 'descricao': 'Educação', 'idEixo':...</td>\n",
       "      <td>[{'id': 84, 'descricao': 'Educação', 'idTipo':...</td>\n",
       "      <td>[{'origem': 'Federal', 'valorInvestimentoPrevi...</td>\n",
       "    </tr>\n",
       "  </tbody>\n",
       "</table>\n",
       "</div>"
      ],
      "text/plain": [
       "      idUnico                                               nome cep  \\\n",
       "0  1828.53-16             SISEG - Sistema integrado de segurança   1   \n",
       "1  1711.53-18  Reforma do espelho d'água do Edifício-Sede do ...   1   \n",
       "2  1989.53-01  Elaboração de projetos arquitetônicos e de eng...   1   \n",
       "3  2004.53-58             SISEG - Sistema integrado de segurança   1   \n",
       "4  2617.53-02  CENTRO DE FORMAÇÃO TECNOLOGICA - CFT - CAMPUS ...   1   \n",
       "\n",
       "                                            endereco  \\\n",
       "0                                                      \n",
       "1                                                      \n",
       "2  Campus Universitário Darcy Ribeiro, Brasília - DF   \n",
       "3                                                      \n",
       "4  Área Especial n° 01, Quadra 16, Cidade do Auto...   \n",
       "\n",
       "                                           descricao  \\\n",
       "0  implantação dos sistemas de monitoramento por ...   \n",
       "1  Reforma do espelho d'água do Edifício-Sede do ...   \n",
       "2  Contratação de empresa especializada para elab...   \n",
       "3  implantação dos sistemas de monitoramento por ...   \n",
       "4  construção um galpão com pé direito alto, que ...   \n",
       "\n",
       "                                        funcaoSocial  \\\n",
       "0  implantação dos sistemas de monitoramento por ...   \n",
       "1  Reestabelecer a impermeabilização do espelho d...   \n",
       "2  Obras para unidades acadêmicas de ensino e pes...   \n",
       "3  implantação dos sistemas de monitoramento por ...   \n",
       "4  atender a comunidade acadêmica do Campus Estru...   \n",
       "\n",
       "                                          metaGlobal dataInicialPrevista  \\\n",
       "0  Modernização do sistema de segurança do Banco ...          2019-02-04   \n",
       "1  Recuperação do sistema de impermeabilização e ...          2021-01-04   \n",
       "2  Elaboração de projetos de engenharia e Arquite...          2021-05-18   \n",
       "3  Modernização do sistema de segurança do Banco ...          2019-02-04   \n",
       "4  aumentar a oferta de cursos técnicos/tecnológi...          2020-12-01   \n",
       "\n",
       "  dataFinalPrevista dataInicialEfetiva dataFinalEfetiva dataCadastro  \\\n",
       "0        2024-02-06               None             None   2021-05-12   \n",
       "1        2021-05-18               None             None   2021-05-04   \n",
       "2        2021-09-29               None             None   2021-05-17   \n",
       "3        2024-02-06               None             None   2021-05-18   \n",
       "4        2021-10-27               None             None   2021-06-18   \n",
       "\n",
       "       especie natureza naturezaOutras    situacao  \\\n",
       "0  Recuperação  Projeto                 Cadastrada   \n",
       "1      Reforma     Obra                 Cadastrada   \n",
       "2   Construção  Projeto           None  Cadastrada   \n",
       "3  Recuperação  Projeto                 Cadastrada   \n",
       "4   Construção     Obra                 Cadastrada   \n",
       "\n",
       "                  descPlanoNacionalPoliticaVinculado  uf qdtEmpregosGerados  \\\n",
       "0                                               None  DF               None   \n",
       "1                                               None  DF               None   \n",
       "2                                               None  DF               None   \n",
       "3                                               None  DF               None   \n",
       "4  triplicar as matrículas da educação profission...  DF               None   \n",
       "\n",
       "  descPopulacaoBeneficiada populacaoBeneficiada observacoesPertinentes  \\\n",
       "0                     None                 None                   None   \n",
       "1                     None                 None                   None   \n",
       "2                     None                 None                   None   \n",
       "3                     None                 None                   None   \n",
       "4                     None                 None                   None   \n",
       "\n",
       "  isModeladaPorBim dataSituacao  \\\n",
       "0             None   2021-05-12   \n",
       "1             None   2021-05-04   \n",
       "2             None   2021-05-17   \n",
       "3             None   2021-05-18   \n",
       "4             None   2021-06-18   \n",
       "\n",
       "                                           tomadores  \\\n",
       "0                                                 []   \n",
       "1  [{'nome': 'BANCO CENTRAL DO BRASIL', 'codigo':...   \n",
       "2                                                 []   \n",
       "3  [{'nome': 'BANCO CENTRAL DO BRASIL-ORC.FISCAL/...   \n",
       "4  [{'nome': 'INSTITUTO FED. ED. CIENCIA E TEC. D...   \n",
       "\n",
       "                                          executores  \\\n",
       "0  [{'nome': 'BANCO CENTRAL DO BRASIL', 'codigo':...   \n",
       "1  [{'nome': 'BANCO CENTRAL DO BRASIL', 'codigo':...   \n",
       "2  [{'nome': 'FUNDACAO UNIVERSIDADE DE BRASILIA',...   \n",
       "3  [{'nome': 'BANCO CENTRAL DO BRASIL', 'codigo':...   \n",
       "4  [{'nome': 'INSTITUTO FED. ED. CIENCIA E TEC. D...   \n",
       "\n",
       "                                        repassadores  \\\n",
       "0                                                 []   \n",
       "1                                                 []   \n",
       "2  [{'nome': 'FUNDACAO UNIVERSIDADE DE BRASILIA',...   \n",
       "3                                                 []   \n",
       "4  [{'nome': 'MINISTÉRIO DA EDUCAÇÃO', 'codigo': ...   \n",
       "\n",
       "                                        eixos  \\\n",
       "0  [{'id': 1, 'descricao': 'Administrativo'}]   \n",
       "1  [{'id': 1, 'descricao': 'Administrativo'}]   \n",
       "2  [{'id': 1, 'descricao': 'Administrativo'}]   \n",
       "3  [{'id': 1, 'descricao': 'Administrativo'}]   \n",
       "4          [{'id': 4, 'descricao': 'Social'}]   \n",
       "\n",
       "                                               tipos  \\\n",
       "0  [{'id': 5, 'descricao': 'Administrativo', 'idE...   \n",
       "1  [{'id': 5, 'descricao': 'Administrativo', 'idE...   \n",
       "2  [{'id': 8, 'descricao': 'Educação', 'idEixo': 1}]   \n",
       "3  [{'id': 5, 'descricao': 'Administrativo', 'idE...   \n",
       "4  [{'id': 46, 'descricao': 'Educação', 'idEixo':...   \n",
       "\n",
       "                                            subTipos  \\\n",
       "0  [{'id': 59, 'descricao': 'Obras em Imóveis de ...   \n",
       "1  [{'id': 59, 'descricao': 'Obras em Imóveis de ...   \n",
       "2  [{'id': 46, 'descricao': 'Instituições Federai...   \n",
       "3  [{'id': 59, 'descricao': 'Obras em Imóveis de ...   \n",
       "4  [{'id': 84, 'descricao': 'Educação', 'idTipo':...   \n",
       "\n",
       "                                     fontesDeRecurso  \n",
       "0  [{'origem': 'Federal', 'valorInvestimentoPrevi...  \n",
       "1  [{'origem': 'Federal', 'valorInvestimentoPrevi...  \n",
       "2  [{'origem': 'Federal', 'valorInvestimentoPrevi...  \n",
       "3  [{'origem': 'Federal', 'valorInvestimentoPrevi...  \n",
       "4  [{'origem': 'Federal', 'valorInvestimentoPrevi...  "
      ]
     },
     "execution_count": 8,
     "metadata": {},
     "output_type": "execute_result"
    }
   ],
   "source": [
    "pd.set_option(\"display.max_columns\", None)\n",
    "df.head()"
   ]
  },
  {
   "cell_type": "markdown",
   "id": "8a8fdbbc",
   "metadata": {},
   "source": [
    "### 2.2 Valores ausentes\n"
   ]
  },
  {
   "cell_type": "code",
   "execution_count": 9,
   "id": "6403e012",
   "metadata": {},
   "outputs": [
    {
     "data": {
      "text/plain": [
       "94"
      ]
     },
     "execution_count": 9,
     "metadata": {},
     "output_type": "execute_result"
    }
   ],
   "source": [
    "# remover ceps preenchidos com 1 ou espaço.\n",
    "df[\"cep\"] = df[\"cep\"].str.replace(r\"^1$\", \"\", regex=True)\n",
    "df[\"cep\"] = df[\"cep\"].str.replace(r\"\\s+\", \"\", regex=True).replace(\"\", None)\n",
    "df[\"cep\"] = df[\"cep\"].str.replace(\"-\", \"\")\n",
    "df[\"cep\"] = df[\"cep\"].str.replace(\".\", \"\")\n",
    "df[\"cep\"].nunique()"
   ]
  },
  {
   "cell_type": "code",
   "execution_count": 10,
   "id": "605c3129",
   "metadata": {},
   "outputs": [
    {
     "data": {
      "text/plain": [
       "238"
      ]
     },
     "execution_count": 10,
     "metadata": {},
     "output_type": "execute_result"
    }
   ],
   "source": [
    "# remover enderecos preenchidos com 1 ou espaço.\n",
    "df[\"endereco\"] = df[\"endereco\"].str.strip()\n",
    "df[\"endereco\"] = df[\"endereco\"].str.replace(r\"^1$\", \"\", regex=True)\n",
    "df[\"endereco\"] = df[\"endereco\"].str.replace(r\"^\\s+$\", \"\", regex=True).replace(\"\", None)\n",
    "df[\"endereco\"].nunique()"
   ]
  },
  {
   "cell_type": "code",
   "execution_count": 11,
   "id": "63fc8e70",
   "metadata": {},
   "outputs": [
    {
     "data": {
      "text/html": [
       "<div>\n",
       "<style scoped>\n",
       "    .dataframe tbody tr th:only-of-type {\n",
       "        vertical-align: middle;\n",
       "    }\n",
       "\n",
       "    .dataframe tbody tr th {\n",
       "        vertical-align: top;\n",
       "    }\n",
       "\n",
       "    .dataframe thead th {\n",
       "        text-align: right;\n",
       "    }\n",
       "</style>\n",
       "<table border=\"1\" class=\"dataframe\">\n",
       "  <thead>\n",
       "    <tr style=\"text-align: right;\">\n",
       "      <th></th>\n",
       "      <th>Unique Values</th>\n",
       "      <th>% Unique</th>\n",
       "      <th>NaN Values</th>\n",
       "      <th>% NaN</th>\n",
       "    </tr>\n",
       "  </thead>\n",
       "  <tbody>\n",
       "    <tr>\n",
       "      <th>dataFinalEfetiva</th>\n",
       "      <td>5</td>\n",
       "      <td>100.0</td>\n",
       "      <td>707</td>\n",
       "      <td>99.3</td>\n",
       "    </tr>\n",
       "    <tr>\n",
       "      <th>dataInicialEfetiva</th>\n",
       "      <td>13</td>\n",
       "      <td>59.1</td>\n",
       "      <td>690</td>\n",
       "      <td>96.9</td>\n",
       "    </tr>\n",
       "    <tr>\n",
       "      <th>observacoesPertinentes</th>\n",
       "      <td>4</td>\n",
       "      <td>3.8</td>\n",
       "      <td>606</td>\n",
       "      <td>85.1</td>\n",
       "    </tr>\n",
       "    <tr>\n",
       "      <th>qdtEmpregosGerados</th>\n",
       "      <td>21</td>\n",
       "      <td>15.2</td>\n",
       "      <td>574</td>\n",
       "      <td>80.6</td>\n",
       "    </tr>\n",
       "    <tr>\n",
       "      <th>populacaoBeneficiada</th>\n",
       "      <td>30</td>\n",
       "      <td>21.4</td>\n",
       "      <td>572</td>\n",
       "      <td>80.3</td>\n",
       "    </tr>\n",
       "    <tr>\n",
       "      <th>descPopulacaoBeneficiada</th>\n",
       "      <td>42</td>\n",
       "      <td>29.2</td>\n",
       "      <td>568</td>\n",
       "      <td>79.8</td>\n",
       "    </tr>\n",
       "    <tr>\n",
       "      <th>naturezaOutras</th>\n",
       "      <td>38</td>\n",
       "      <td>20.0</td>\n",
       "      <td>522</td>\n",
       "      <td>73.3</td>\n",
       "    </tr>\n",
       "    <tr>\n",
       "      <th>cep</th>\n",
       "      <td>94</td>\n",
       "      <td>39.7</td>\n",
       "      <td>475</td>\n",
       "      <td>66.7</td>\n",
       "    </tr>\n",
       "    <tr>\n",
       "      <th>descPlanoNacionalPoliticaVinculado</th>\n",
       "      <td>78</td>\n",
       "      <td>31.5</td>\n",
       "      <td>464</td>\n",
       "      <td>65.2</td>\n",
       "    </tr>\n",
       "    <tr>\n",
       "      <th>endereco</th>\n",
       "      <td>238</td>\n",
       "      <td>76.3</td>\n",
       "      <td>400</td>\n",
       "      <td>56.2</td>\n",
       "    </tr>\n",
       "    <tr>\n",
       "      <th>isModeladaPorBim</th>\n",
       "      <td>2</td>\n",
       "      <td>0.4</td>\n",
       "      <td>216</td>\n",
       "      <td>30.3</td>\n",
       "    </tr>\n",
       "  </tbody>\n",
       "</table>\n",
       "</div>"
      ],
      "text/plain": [
       "                                    Unique Values  % Unique  NaN Values  % NaN\n",
       "dataFinalEfetiva                                5     100.0         707   99.3\n",
       "dataInicialEfetiva                             13      59.1         690   96.9\n",
       "observacoesPertinentes                          4       3.8         606   85.1\n",
       "qdtEmpregosGerados                             21      15.2         574   80.6\n",
       "populacaoBeneficiada                           30      21.4         572   80.3\n",
       "descPopulacaoBeneficiada                       42      29.2         568   79.8\n",
       "naturezaOutras                                 38      20.0         522   73.3\n",
       "cep                                            94      39.7         475   66.7\n",
       "descPlanoNacionalPoliticaVinculado             78      31.5         464   65.2\n",
       "endereco                                      238      76.3         400   56.2\n",
       "isModeladaPorBim                                2       0.4         216   30.3"
      ]
     },
     "execution_count": 11,
     "metadata": {},
     "output_type": "execute_result"
    }
   ],
   "source": [
    "object_cols = df.drop(columns=nested_cols, axis=1)\n",
    "info_df = pd.DataFrame(\n",
    "    {\n",
    "        \"Unique Values\": object_cols.nunique(),\n",
    "        \"% Unique\": (object_cols.nunique() / object_cols.count() * 100).round(1),\n",
    "        \"NaN Values\": object_cols.isna().sum(),\n",
    "        \"% NaN\": (object_cols.isna().sum() / len(object_cols) * 100).round(1),\n",
    "    }\n",
    ")\n",
    "info_df[info_df[\"% NaN\"] > 1].sort_values(by=\"% NaN\", ascending=False)"
   ]
  },
  {
   "cell_type": "markdown",
   "id": "bea4b113",
   "metadata": {},
   "source": [
    "Há muitos valores ausentes. Não entendo o motivo disso, mas não me parece um erro. Muitos desses são datas que suspeito serem futuras, ou campos do tipo 'outras observações'. Mais notável é a ausência de `qdtEmpregosGerados`, `populacaoBeneficiada`, `cep` e `endereco`. Não tiraria conclusões precipitadas sem saber mais.\n",
    "\n",
    "Também não vejo necessidade de fazer imputação aqui. Então todos permanecem como estão.\n"
   ]
  },
  {
   "cell_type": "markdown",
   "id": "834b9163",
   "metadata": {},
   "source": [
    "### 2.3 Tipagem\n"
   ]
  },
  {
   "cell_type": "code",
   "execution_count": 12,
   "id": "2000f851",
   "metadata": {},
   "outputs": [
    {
     "data": {
      "text/plain": [
       "isModeladaPorBim\n",
       "False    471\n",
       "None     216\n",
       "True      25\n",
       "Name: count, dtype: int64"
      ]
     },
     "execution_count": 12,
     "metadata": {},
     "output_type": "execute_result"
    }
   ],
   "source": [
    "# usar isso em cada coluna para verificar o tipo da variável\n",
    "df[\"isModeladaPorBim\"].value_counts(dropna=False)"
   ]
  },
  {
   "cell_type": "code",
   "execution_count": 13,
   "id": "f09d6377",
   "metadata": {},
   "outputs": [],
   "source": [
    "df[\"isModeladaPorBim\"] = df[\"isModeladaPorBim\"].astype(\"boolean\")"
   ]
  },
  {
   "cell_type": "code",
   "execution_count": 14,
   "id": "3126c6cd",
   "metadata": {},
   "outputs": [],
   "source": [
    "# variaveis categoricas\n",
    "df[\"natureza\"] = df[\"natureza\"].astype(\"category\")\n",
    "df[\"situacao\"] = df[\"situacao\"].astype(\"category\")\n",
    "df[\"especie\"] = df[\"especie\"].astype(\"category\")\n",
    "df[\"uf\"] = df[\"uf\"].astype(\"category\")"
   ]
  },
  {
   "cell_type": "code",
   "execution_count": 15,
   "id": "89607252",
   "metadata": {},
   "outputs": [],
   "source": [
    "# variaveis de data\n",
    "# verifiquei manualmente os registros para erros de formatação mas não encontrei problemas\n",
    "\n",
    "date_cols = [\n",
    "    \"dataInicialPrevista\",\n",
    "    \"dataFinalPrevista\",\n",
    "    \"dataInicialEfetiva\",\n",
    "    \"dataFinalEfetiva\",\n",
    "    \"dataCadastro\",\n",
    "    \"dataSituacao\",\n",
    "]\n",
    "\n",
    "for col in date_cols:\n",
    "    df[col] = pd.to_datetime(df[col], errors=\"coerce\")"
   ]
  },
  {
   "cell_type": "code",
   "execution_count": 16,
   "id": "f4572706",
   "metadata": {},
   "outputs": [],
   "source": [
    "# alguns registros tem strings em vez de ints. esses registros também têm outros problemas; veja abaixo.\n",
    "# isso coage strings para null\n",
    "# converte para float em vez de int para permitir valores nulos\n",
    "df[\"qdtEmpregosGerados\"] = pd.to_numeric(df[\"qdtEmpregosGerados\"], errors=\"coerce\")\n",
    "df[\"populacaoBeneficiada\"] = pd.to_numeric(df[\"populacaoBeneficiada\"], errors=\"coerce\")"
   ]
  },
  {
   "cell_type": "code",
   "execution_count": 17,
   "id": "cdb5be1d",
   "metadata": {},
   "outputs": [
    {
     "name": "stdout",
     "output_type": "stream",
     "text": [
      "<class 'pandas.core.frame.DataFrame'>\n",
      "Index: 712 entries, 0 to 832\n",
      "Data columns (total 31 columns):\n",
      " #   Column                              Non-Null Count  Dtype         \n",
      "---  ------                              --------------  -----         \n",
      " 0   idUnico                             712 non-null    object        \n",
      " 1   nome                                712 non-null    object        \n",
      " 2   cep                                 237 non-null    object        \n",
      " 3   endereco                            312 non-null    object        \n",
      " 4   descricao                           712 non-null    object        \n",
      " 5   funcaoSocial                        712 non-null    object        \n",
      " 6   metaGlobal                          712 non-null    object        \n",
      " 7   dataInicialPrevista                 710 non-null    datetime64[ns]\n",
      " 8   dataFinalPrevista                   710 non-null    datetime64[ns]\n",
      " 9   dataInicialEfetiva                  22 non-null     datetime64[ns]\n",
      " 10  dataFinalEfetiva                    5 non-null      datetime64[ns]\n",
      " 11  dataCadastro                        712 non-null    datetime64[ns]\n",
      " 12  especie                             708 non-null    category      \n",
      " 13  natureza                            712 non-null    category      \n",
      " 14  naturezaOutras                      190 non-null    object        \n",
      " 15  situacao                            712 non-null    category      \n",
      " 16  descPlanoNacionalPoliticaVinculado  248 non-null    object        \n",
      " 17  uf                                  712 non-null    category      \n",
      " 18  qdtEmpregosGerados                  35 non-null     float64       \n",
      " 19  descPopulacaoBeneficiada            144 non-null    object        \n",
      " 20  populacaoBeneficiada                35 non-null     float64       \n",
      " 21  observacoesPertinentes              106 non-null    object        \n",
      " 22  isModeladaPorBim                    496 non-null    boolean       \n",
      " 23  dataSituacao                        712 non-null    datetime64[ns]\n",
      " 24  tomadores                           712 non-null    object        \n",
      " 25  executores                          712 non-null    object        \n",
      " 26  repassadores                        712 non-null    object        \n",
      " 27  eixos                               712 non-null    object        \n",
      " 28  tipos                               712 non-null    object        \n",
      " 29  subTipos                            712 non-null    object        \n",
      " 30  fontesDeRecurso                     712 non-null    object        \n",
      "dtypes: boolean(1), category(4), datetime64[ns](6), float64(2), object(18)\n",
      "memory usage: 2.0 MB\n"
     ]
    }
   ],
   "source": [
    "df.info(memory_usage=\"deep\")"
   ]
  },
  {
   "cell_type": "markdown",
   "id": "60058ca9",
   "metadata": {},
   "source": [
    "### 2.4 Colunas aninhadas\n"
   ]
  },
  {
   "cell_type": "code",
   "execution_count": 18,
   "id": "c13c32fa",
   "metadata": {},
   "outputs": [],
   "source": [
    "def normalize_nested_column(\n",
    "    df: pd.DataFrame, id_col: str, nested_col: str\n",
    ") -> pd.DataFrame:\n",
    "    def convert_dict_values_to_str(x):\n",
    "        # pd.json_normalize(df['tomadores'].explode()) converte o id para float, o que pode causar problemas devido à imprecisão de ponto flutuante mesmo se convertido de volta para int/str. por isso, preciso converter os valores para strings primeiro, o que requer um código um pouco confuso:\n",
    "\n",
    "        if not isinstance(x, list):\n",
    "            return x\n",
    "        return [{key: str(value) for key, value in item.items()} for item in x]\n",
    "\n",
    "    df[nested_col] = df[nested_col].apply(convert_dict_values_to_str)\n",
    "    exploded = df[[id_col, nested_col]].explode(nested_col)\n",
    "    exploded = exploded.dropna(subset=[nested_col])\n",
    "    normalized = pd.json_normalize(exploded[nested_col])\n",
    "    normalized[id_col] = exploded[id_col].values\n",
    "    return normalized\n",
    "\n",
    "\n",
    "def create_entity_table_from_junction_table(\n",
    "    old_df: pd.DataFrame, prev_index: str, actual_index: str\n",
    ") -> pd.DataFrame:\n",
    "    new_df = old_df.dropna(subset=[prev_index])\n",
    "    new_df.drop_duplicates(subset=[actual_index], inplace=True)\n",
    "    new_df.set_index(actual_index, inplace=True)\n",
    "    new_df.drop(prev_index, axis=1, inplace=True)\n",
    "    return new_df"
   ]
  },
  {
   "cell_type": "code",
   "execution_count": 19,
   "id": "1a6a05d5",
   "metadata": {},
   "outputs": [
    {
     "data": {
      "text/html": [
       "<div>\n",
       "<style scoped>\n",
       "    .dataframe tbody tr th:only-of-type {\n",
       "        vertical-align: middle;\n",
       "    }\n",
       "\n",
       "    .dataframe tbody tr th {\n",
       "        vertical-align: top;\n",
       "    }\n",
       "\n",
       "    .dataframe thead th {\n",
       "        text-align: right;\n",
       "    }\n",
       "</style>\n",
       "<table border=\"1\" class=\"dataframe\">\n",
       "  <thead>\n",
       "    <tr style=\"text-align: right;\">\n",
       "      <th></th>\n",
       "      <th>nome</th>\n",
       "    </tr>\n",
       "    <tr>\n",
       "      <th>codigo</th>\n",
       "      <th></th>\n",
       "    </tr>\n",
       "  </thead>\n",
       "  <tbody>\n",
       "    <tr>\n",
       "      <th>25280</th>\n",
       "      <td>BANCO CENTRAL DO BRASIL</td>\n",
       "    </tr>\n",
       "  </tbody>\n",
       "</table>\n",
       "</div>"
      ],
      "text/plain": [
       "                           nome\n",
       "codigo                         \n",
       "25280   BANCO CENTRAL DO BRASIL"
      ]
     },
     "execution_count": 19,
     "metadata": {},
     "output_type": "execute_result"
    }
   ],
   "source": [
    "# reuni essas tabelas em uma só, pois são todas referentes a instituicoes e usam o mesmo sistema de códigos.\n",
    "\n",
    "projeto_tomadores_df = normalize_nested_column(df, \"idUnico\", \"tomadores\")\n",
    "projeto_executores_df = normalize_nested_column(df, \"idUnico\", \"executores\")\n",
    "projeto_repassadores_df = normalize_nested_column(df, \"idUnico\", \"repassadores\")\n",
    "\n",
    "tomadores_df = create_entity_table_from_junction_table(\n",
    "    projeto_tomadores_df, \"idUnico\", \"codigo\"\n",
    ")\n",
    "executores_df = create_entity_table_from_junction_table(\n",
    "    projeto_executores_df, \"idUnico\", \"codigo\"\n",
    ")\n",
    "repassadores_df = create_entity_table_from_junction_table(\n",
    "    projeto_repassadores_df, \"idUnico\", \"codigo\"\n",
    ")\n",
    "\n",
    "instituicoes_df = pd.concat([tomadores_df, executores_df, repassadores_df])\n",
    "\n",
    "# deduplicate indices\n",
    "instituicoes_df = instituicoes_df.loc[~instituicoes_df.index.duplicated(keep=\"first\")]\n",
    "\n",
    "instituicoes_df.head(1)"
   ]
  },
  {
   "cell_type": "code",
   "execution_count": 20,
   "id": "e6526721",
   "metadata": {},
   "outputs": [
    {
     "data": {
      "text/html": [
       "<div>\n",
       "<style scoped>\n",
       "    .dataframe tbody tr th:only-of-type {\n",
       "        vertical-align: middle;\n",
       "    }\n",
       "\n",
       "    .dataframe tbody tr th {\n",
       "        vertical-align: top;\n",
       "    }\n",
       "\n",
       "    .dataframe thead th {\n",
       "        text-align: right;\n",
       "    }\n",
       "</style>\n",
       "<table border=\"1\" class=\"dataframe\">\n",
       "  <thead>\n",
       "    <tr style=\"text-align: right;\">\n",
       "      <th></th>\n",
       "      <th>descricao</th>\n",
       "    </tr>\n",
       "    <tr>\n",
       "      <th>id</th>\n",
       "      <th></th>\n",
       "    </tr>\n",
       "  </thead>\n",
       "  <tbody>\n",
       "    <tr>\n",
       "      <th>1</th>\n",
       "      <td>Administrativo</td>\n",
       "    </tr>\n",
       "  </tbody>\n",
       "</table>\n",
       "</div>"
      ],
      "text/plain": [
       "         descricao\n",
       "id                \n",
       "1   Administrativo"
      ]
     },
     "execution_count": 20,
     "metadata": {},
     "output_type": "execute_result"
    }
   ],
   "source": [
    "projeto_eixos_df = normalize_nested_column(df, \"idUnico\", \"eixos\")\n",
    "\n",
    "eixos_df = create_entity_table_from_junction_table(projeto_eixos_df, \"idUnico\", \"id\")\n",
    "\n",
    "eixos_df.head(1)"
   ]
  },
  {
   "cell_type": "code",
   "execution_count": 21,
   "id": "f584f1a8",
   "metadata": {},
   "outputs": [
    {
     "data": {
      "text/html": [
       "<div>\n",
       "<style scoped>\n",
       "    .dataframe tbody tr th:only-of-type {\n",
       "        vertical-align: middle;\n",
       "    }\n",
       "\n",
       "    .dataframe tbody tr th {\n",
       "        vertical-align: top;\n",
       "    }\n",
       "\n",
       "    .dataframe thead th {\n",
       "        text-align: right;\n",
       "    }\n",
       "</style>\n",
       "<table border=\"1\" class=\"dataframe\">\n",
       "  <thead>\n",
       "    <tr style=\"text-align: right;\">\n",
       "      <th></th>\n",
       "      <th>descricao</th>\n",
       "      <th>idEixo</th>\n",
       "    </tr>\n",
       "    <tr>\n",
       "      <th>id</th>\n",
       "      <th></th>\n",
       "      <th></th>\n",
       "    </tr>\n",
       "  </thead>\n",
       "  <tbody>\n",
       "    <tr>\n",
       "      <th>5</th>\n",
       "      <td>Administrativo</td>\n",
       "      <td>1</td>\n",
       "    </tr>\n",
       "  </tbody>\n",
       "</table>\n",
       "</div>"
      ],
      "text/plain": [
       "         descricao idEixo\n",
       "id                       \n",
       "5   Administrativo      1"
      ]
     },
     "execution_count": 21,
     "metadata": {},
     "output_type": "execute_result"
    }
   ],
   "source": [
    "projeto_tipos_df = normalize_nested_column(df, \"idUnico\", \"tipos\")\n",
    "\n",
    "tipos_df = create_entity_table_from_junction_table(projeto_tipos_df, \"idUnico\", \"id\")\n",
    "\n",
    "tipos_df.head(1)"
   ]
  },
  {
   "cell_type": "code",
   "execution_count": 22,
   "id": "2e64d14b",
   "metadata": {},
   "outputs": [
    {
     "data": {
      "text/html": [
       "<div>\n",
       "<style scoped>\n",
       "    .dataframe tbody tr th:only-of-type {\n",
       "        vertical-align: middle;\n",
       "    }\n",
       "\n",
       "    .dataframe tbody tr th {\n",
       "        vertical-align: top;\n",
       "    }\n",
       "\n",
       "    .dataframe thead th {\n",
       "        text-align: right;\n",
       "    }\n",
       "</style>\n",
       "<table border=\"1\" class=\"dataframe\">\n",
       "  <thead>\n",
       "    <tr style=\"text-align: right;\">\n",
       "      <th></th>\n",
       "      <th>descricao</th>\n",
       "      <th>idTipo</th>\n",
       "    </tr>\n",
       "    <tr>\n",
       "      <th>id</th>\n",
       "      <th></th>\n",
       "      <th></th>\n",
       "    </tr>\n",
       "  </thead>\n",
       "  <tbody>\n",
       "    <tr>\n",
       "      <th>59</th>\n",
       "      <td>Obras em Imóveis de Uso Público</td>\n",
       "      <td>5</td>\n",
       "    </tr>\n",
       "  </tbody>\n",
       "</table>\n",
       "</div>"
      ],
      "text/plain": [
       "                          descricao idTipo\n",
       "id                                        \n",
       "59  Obras em Imóveis de Uso Público      5"
      ]
     },
     "execution_count": 22,
     "metadata": {},
     "output_type": "execute_result"
    }
   ],
   "source": [
    "projeto_subtipos_df = normalize_nested_column(df, \"idUnico\", \"subTipos\")\n",
    "\n",
    "subtipos_df = create_entity_table_from_junction_table(\n",
    "    projeto_subtipos_df, \"idUnico\", \"id\"\n",
    ")\n",
    "\n",
    "subtipos_df.head(1)"
   ]
  },
  {
   "cell_type": "code",
   "execution_count": 23,
   "id": "2e00736c",
   "metadata": {},
   "outputs": [
    {
     "data": {
      "text/html": [
       "<div>\n",
       "<style scoped>\n",
       "    .dataframe tbody tr th:only-of-type {\n",
       "        vertical-align: middle;\n",
       "    }\n",
       "\n",
       "    .dataframe tbody tr th {\n",
       "        vertical-align: top;\n",
       "    }\n",
       "\n",
       "    .dataframe thead th {\n",
       "        text-align: right;\n",
       "    }\n",
       "</style>\n",
       "<table border=\"1\" class=\"dataframe\">\n",
       "  <thead>\n",
       "    <tr style=\"text-align: right;\">\n",
       "      <th></th>\n",
       "      <th>origem</th>\n",
       "      <th>valorInvestimentoPrevisto</th>\n",
       "      <th>idUnico</th>\n",
       "    </tr>\n",
       "  </thead>\n",
       "  <tbody>\n",
       "    <tr>\n",
       "      <th>0</th>\n",
       "      <td>Federal</td>\n",
       "      <td>23427554.88</td>\n",
       "      <td>1828.53-16</td>\n",
       "    </tr>\n",
       "  </tbody>\n",
       "</table>\n",
       "</div>"
      ],
      "text/plain": [
       "    origem  valorInvestimentoPrevisto     idUnico\n",
       "0  Federal                23427554.88  1828.53-16"
      ]
     },
     "execution_count": 23,
     "metadata": {},
     "output_type": "execute_result"
    }
   ],
   "source": [
    "# nesse caso é one to many e nao many to many, entao nao precisa da tabela intermediaria. mas reutiliza o codigo de qualquer forma\n",
    "\n",
    "fontes_de_recurso_df = normalize_nested_column(\n",
    "    df, \"idUnico\", \"fontesDeRecurso\"\n",
    ").reset_index(drop=True)\n",
    "\n",
    "# nesse caso estava certo o float\n",
    "fontes_de_recurso_df[\"valorInvestimentoPrevisto\"] = pd.to_numeric(\n",
    "    fontes_de_recurso_df[\"valorInvestimentoPrevisto\"], errors=\"coerce\"\n",
    ")\n",
    "\n",
    "fontes_de_recurso_df.head(1)"
   ]
  },
  {
   "cell_type": "code",
   "execution_count": 24,
   "id": "55f21226",
   "metadata": {},
   "outputs": [],
   "source": [
    "df.drop(columns=nested_cols, inplace=True)"
   ]
  },
  {
   "cell_type": "markdown",
   "id": "df8c908c",
   "metadata": {},
   "source": [
    "### 2.X Limpeza de dados\n"
   ]
  },
  {
   "cell_type": "markdown",
   "id": "5c826461",
   "metadata": {},
   "source": [
    "#### Encoding\n"
   ]
  },
  {
   "cell_type": "code",
   "execution_count": 25,
   "id": "e3caa064",
   "metadata": {},
   "outputs": [
    {
     "name": "stdout",
     "output_type": "stream",
     "text": [
      "Pelo menos 18 projetos com erro de encoding\n"
     ]
    },
    {
     "data": {
      "text/html": [
       "<div>\n",
       "<style scoped>\n",
       "    .dataframe tbody tr th:only-of-type {\n",
       "        vertical-align: middle;\n",
       "    }\n",
       "\n",
       "    .dataframe tbody tr th {\n",
       "        vertical-align: top;\n",
       "    }\n",
       "\n",
       "    .dataframe thead th {\n",
       "        text-align: right;\n",
       "    }\n",
       "</style>\n",
       "<table border=\"1\" class=\"dataframe\">\n",
       "  <thead>\n",
       "    <tr style=\"text-align: right;\">\n",
       "      <th></th>\n",
       "      <th>idUnico</th>\n",
       "      <th>nome</th>\n",
       "      <th>cep</th>\n",
       "      <th>endereco</th>\n",
       "      <th>descricao</th>\n",
       "      <th>funcaoSocial</th>\n",
       "      <th>metaGlobal</th>\n",
       "      <th>dataInicialPrevista</th>\n",
       "      <th>dataFinalPrevista</th>\n",
       "      <th>dataInicialEfetiva</th>\n",
       "      <th>dataFinalEfetiva</th>\n",
       "      <th>dataCadastro</th>\n",
       "      <th>especie</th>\n",
       "      <th>natureza</th>\n",
       "      <th>naturezaOutras</th>\n",
       "      <th>situacao</th>\n",
       "      <th>descPlanoNacionalPoliticaVinculado</th>\n",
       "      <th>uf</th>\n",
       "      <th>qdtEmpregosGerados</th>\n",
       "      <th>descPopulacaoBeneficiada</th>\n",
       "      <th>populacaoBeneficiada</th>\n",
       "      <th>observacoesPertinentes</th>\n",
       "      <th>isModeladaPorBim</th>\n",
       "      <th>dataSituacao</th>\n",
       "    </tr>\n",
       "  </thead>\n",
       "  <tbody>\n",
       "    <tr>\n",
       "      <th>63</th>\n",
       "      <td>6015.53-53</td>\n",
       "      <td>00 00692/2020</td>\n",
       "      <td>70040902</td>\n",
       "      <td>BR-010</td>\n",
       "      <td>prestaÃ§Ã£o dos serviÃ§os de gerenciamento dos...</td>\n",
       "      <td>Preservar vidas e promover o desenvolvimento s...</td>\n",
       "      <td>Gerenciamento de 0 km.</td>\n",
       "      <td>2021-01-18</td>\n",
       "      <td>2024-01-02</td>\n",
       "      <td>NaT</td>\n",
       "      <td>NaT</td>\n",
       "      <td>2022-05-10</td>\n",
       "      <td>Construção</td>\n",
       "      <td>Obra</td>\n",
       "      <td>None</td>\n",
       "      <td>Cadastrada</td>\n",
       "      <td>None</td>\n",
       "      <td>DF</td>\n",
       "      <td>NaN</td>\n",
       "      <td>None</td>\n",
       "      <td>NaN</td>\n",
       "      <td>None</td>\n",
       "      <td>&lt;NA&gt;</td>\n",
       "      <td>2022-05-10</td>\n",
       "    </tr>\n",
       "  </tbody>\n",
       "</table>\n",
       "</div>"
      ],
      "text/plain": [
       "       idUnico           nome       cep endereco  \\\n",
       "63  6015.53-53  00 00692/2020  70040902   BR-010   \n",
       "\n",
       "                                            descricao  \\\n",
       "63  prestaÃ§Ã£o dos serviÃ§os de gerenciamento dos...   \n",
       "\n",
       "                                         funcaoSocial              metaGlobal  \\\n",
       "63  Preservar vidas e promover o desenvolvimento s...  Gerenciamento de 0 km.   \n",
       "\n",
       "   dataInicialPrevista dataFinalPrevista dataInicialEfetiva dataFinalEfetiva  \\\n",
       "63          2021-01-18        2024-01-02                NaT              NaT   \n",
       "\n",
       "   dataCadastro     especie natureza naturezaOutras    situacao  \\\n",
       "63   2022-05-10  Construção     Obra           None  Cadastrada   \n",
       "\n",
       "   descPlanoNacionalPoliticaVinculado  uf  qdtEmpregosGerados  \\\n",
       "63                               None  DF                 NaN   \n",
       "\n",
       "   descPopulacaoBeneficiada  populacaoBeneficiada observacoesPertinentes  \\\n",
       "63                     None                   NaN                   None   \n",
       "\n",
       "    isModeladaPorBim dataSituacao  \n",
       "63              <NA>   2022-05-10  "
      ]
     },
     "execution_count": 25,
     "metadata": {},
     "output_type": "execute_result"
    }
   ],
   "source": [
    "# erro de encoding. todos parecem seguir nomes parecidos, indicando que o erro deve ser relacionado à fonte. endereço são rodovias.\n",
    "# Texto em UTF-8, foi lido como Latin-1 (ISO-8859-1)\n",
    "enconding_issue = df[df[\"descricao\"].str.contains(\"Ã§Ã\")]\n",
    "print(f\"Pelo menos {enconding_issue.shape[0]} projetos com erro de encoding\")\n",
    "df[df[\"descricao\"].str.contains(\"Ã§Ã\")].head(1)"
   ]
  },
  {
   "cell_type": "code",
   "execution_count": 26,
   "id": "2b01cb16",
   "metadata": {},
   "outputs": [],
   "source": [
    "def fix_encoding(item: any) -> any:\n",
    "    if isinstance(item, str):\n",
    "        try:\n",
    "            return item.encode(\"latin-1\").decode(\"utf-8\")\n",
    "        except:\n",
    "            return item\n",
    "    return item\n",
    "\n",
    "\n",
    "for col in df.select_dtypes(include=[\"object\"]).columns:\n",
    "    df[col] = df[col].apply(fix_encoding)"
   ]
  },
  {
   "cell_type": "markdown",
   "id": "8129c2a8",
   "metadata": {},
   "source": [
    "#### Registros incorretos devido a testes de integração\n"
   ]
  },
  {
   "cell_type": "code",
   "execution_count": 27,
   "id": "cebb90d2",
   "metadata": {},
   "outputs": [
    {
     "data": {
      "text/html": [
       "<div>\n",
       "<style scoped>\n",
       "    .dataframe tbody tr th:only-of-type {\n",
       "        vertical-align: middle;\n",
       "    }\n",
       "\n",
       "    .dataframe tbody tr th {\n",
       "        vertical-align: top;\n",
       "    }\n",
       "\n",
       "    .dataframe thead th {\n",
       "        text-align: right;\n",
       "    }\n",
       "</style>\n",
       "<table border=\"1\" class=\"dataframe\">\n",
       "  <thead>\n",
       "    <tr style=\"text-align: right;\">\n",
       "      <th></th>\n",
       "      <th>idUnico</th>\n",
       "      <th>nome</th>\n",
       "      <th>cep</th>\n",
       "      <th>endereco</th>\n",
       "      <th>descricao</th>\n",
       "      <th>funcaoSocial</th>\n",
       "      <th>metaGlobal</th>\n",
       "      <th>dataInicialPrevista</th>\n",
       "      <th>dataFinalPrevista</th>\n",
       "      <th>dataInicialEfetiva</th>\n",
       "      <th>dataFinalEfetiva</th>\n",
       "      <th>dataCadastro</th>\n",
       "      <th>especie</th>\n",
       "      <th>natureza</th>\n",
       "      <th>naturezaOutras</th>\n",
       "      <th>situacao</th>\n",
       "      <th>descPlanoNacionalPoliticaVinculado</th>\n",
       "      <th>uf</th>\n",
       "      <th>qdtEmpregosGerados</th>\n",
       "      <th>descPopulacaoBeneficiada</th>\n",
       "      <th>populacaoBeneficiada</th>\n",
       "      <th>observacoesPertinentes</th>\n",
       "      <th>isModeladaPorBim</th>\n",
       "      <th>dataSituacao</th>\n",
       "    </tr>\n",
       "  </thead>\n",
       "  <tbody>\n",
       "    <tr>\n",
       "      <th>79</th>\n",
       "      <td>4543.53-79</td>\n",
       "      <td>202111-22-Ronald 1</td>\n",
       "      <td>70067901</td>\n",
       "      <td>2021122-Ronald - Endereço Completo</td>\n",
       "      <td>2021122-Ronald - Descrição do Projeto</td>\n",
       "      <td>2021122-Ronald - Descrição Funç]ap Social</td>\n",
       "      <td>20211122-Ronald - Descrição Meta Global</td>\n",
       "      <td>2021-12-10</td>\n",
       "      <td>2021-12-10</td>\n",
       "      <td>NaT</td>\n",
       "      <td>NaT</td>\n",
       "      <td>2021-11-17</td>\n",
       "      <td>Fabricação</td>\n",
       "      <td>Projeto</td>\n",
       "      <td>outros</td>\n",
       "      <td>Cadastrada</td>\n",
       "      <td>None</td>\n",
       "      <td>DF</td>\n",
       "      <td>NaN</td>\n",
       "      <td>None</td>\n",
       "      <td>NaN</td>\n",
       "      <td>None</td>\n",
       "      <td>&lt;NA&gt;</td>\n",
       "      <td>2021-11-17</td>\n",
       "    </tr>\n",
       "    <tr>\n",
       "      <th>80</th>\n",
       "      <td>4540.53-87</td>\n",
       "      <td>202111-22-Ronald 1</td>\n",
       "      <td>70067901</td>\n",
       "      <td>2021122-Ronald - Endereço Completo</td>\n",
       "      <td>2021122-Ronald - Descrição do Projeto</td>\n",
       "      <td>2021122-Ronald - Descrição Funç]ap Social</td>\n",
       "      <td>20211122-Ronald - Descrição Meta Global</td>\n",
       "      <td>2021-12-10</td>\n",
       "      <td>2021-12-10</td>\n",
       "      <td>NaT</td>\n",
       "      <td>NaT</td>\n",
       "      <td>2021-11-17</td>\n",
       "      <td>Reforma</td>\n",
       "      <td>Obra</td>\n",
       "      <td>outros</td>\n",
       "      <td>Cadastrada</td>\n",
       "      <td>None</td>\n",
       "      <td>DF</td>\n",
       "      <td>NaN</td>\n",
       "      <td>None</td>\n",
       "      <td>NaN</td>\n",
       "      <td>None</td>\n",
       "      <td>&lt;NA&gt;</td>\n",
       "      <td>2021-11-17</td>\n",
       "    </tr>\n",
       "    <tr>\n",
       "      <th>82</th>\n",
       "      <td>4542.53-01</td>\n",
       "      <td>202111-22-Ronald 1</td>\n",
       "      <td>70067901</td>\n",
       "      <td>2021122-Ronald - Endereço Completo</td>\n",
       "      <td>2021122-Ronald - Descrição do Projeto</td>\n",
       "      <td>2021122-Ronald - Descrição Funç]ap Social</td>\n",
       "      <td>20211122-Ronald - Descrição Meta Global</td>\n",
       "      <td>2021-12-10</td>\n",
       "      <td>2021-12-10</td>\n",
       "      <td>NaT</td>\n",
       "      <td>NaT</td>\n",
       "      <td>2021-11-17</td>\n",
       "      <td>Reforma</td>\n",
       "      <td>Projeto de Investimento em Infraestrutura</td>\n",
       "      <td>outros</td>\n",
       "      <td>Cadastrada</td>\n",
       "      <td>None</td>\n",
       "      <td>DF</td>\n",
       "      <td>NaN</td>\n",
       "      <td>None</td>\n",
       "      <td>NaN</td>\n",
       "      <td>None</td>\n",
       "      <td>&lt;NA&gt;</td>\n",
       "      <td>2021-11-17</td>\n",
       "    </tr>\n",
       "    <tr>\n",
       "      <th>83</th>\n",
       "      <td>4544.53-36</td>\n",
       "      <td>202111-22-Ronald 1</td>\n",
       "      <td>70067901</td>\n",
       "      <td>2021122-Ronald - Endereço Completo</td>\n",
       "      <td>2021122-Ronald - Descrição do Projeto</td>\n",
       "      <td>2021122-Ronald - Descrição Funç]ap Social</td>\n",
       "      <td>20211122-Ronald - Descrição Meta Global</td>\n",
       "      <td>2021-12-10</td>\n",
       "      <td>2021-12-10</td>\n",
       "      <td>NaT</td>\n",
       "      <td>NaT</td>\n",
       "      <td>2021-11-17</td>\n",
       "      <td>Reforma</td>\n",
       "      <td>Projeto de Investimento em Infraestrutura</td>\n",
       "      <td>outros</td>\n",
       "      <td>Cadastrada</td>\n",
       "      <td>None</td>\n",
       "      <td>DF</td>\n",
       "      <td>NaN</td>\n",
       "      <td>None</td>\n",
       "      <td>NaN</td>\n",
       "      <td>None</td>\n",
       "      <td>&lt;NA&gt;</td>\n",
       "      <td>2021-11-17</td>\n",
       "    </tr>\n",
       "    <tr>\n",
       "      <th>205</th>\n",
       "      <td>4541.53-44</td>\n",
       "      <td>202111-22-Ronald 1</td>\n",
       "      <td>70067901</td>\n",
       "      <td>2021122-Ronald - Endereço Completo</td>\n",
       "      <td>2021122-Ronald - Descrição do Projeto</td>\n",
       "      <td>2021122-Ronald - Descrição Funç]ap Social</td>\n",
       "      <td>20211122-Ronald - Descrição Meta Global</td>\n",
       "      <td>2021-12-10</td>\n",
       "      <td>2021-12-10</td>\n",
       "      <td>NaT</td>\n",
       "      <td>NaT</td>\n",
       "      <td>2021-11-17</td>\n",
       "      <td>Recuperação</td>\n",
       "      <td>Projeto de Investimento em Infraestrutura</td>\n",
       "      <td>outros</td>\n",
       "      <td>Cadastrada</td>\n",
       "      <td>None</td>\n",
       "      <td>DF</td>\n",
       "      <td>NaN</td>\n",
       "      <td>None</td>\n",
       "      <td>NaN</td>\n",
       "      <td>None</td>\n",
       "      <td>&lt;NA&gt;</td>\n",
       "      <td>2021-11-17</td>\n",
       "    </tr>\n",
       "  </tbody>\n",
       "</table>\n",
       "</div>"
      ],
      "text/plain": [
       "        idUnico                nome       cep  \\\n",
       "79   4543.53-79  202111-22-Ronald 1  70067901   \n",
       "80   4540.53-87  202111-22-Ronald 1  70067901   \n",
       "82   4542.53-01  202111-22-Ronald 1  70067901   \n",
       "83   4544.53-36  202111-22-Ronald 1  70067901   \n",
       "205  4541.53-44  202111-22-Ronald 1  70067901   \n",
       "\n",
       "                               endereco  \\\n",
       "79   2021122-Ronald - Endereço Completo   \n",
       "80   2021122-Ronald - Endereço Completo   \n",
       "82   2021122-Ronald - Endereço Completo   \n",
       "83   2021122-Ronald - Endereço Completo   \n",
       "205  2021122-Ronald - Endereço Completo   \n",
       "\n",
       "                                 descricao  \\\n",
       "79   2021122-Ronald - Descrição do Projeto   \n",
       "80   2021122-Ronald - Descrição do Projeto   \n",
       "82   2021122-Ronald - Descrição do Projeto   \n",
       "83   2021122-Ronald - Descrição do Projeto   \n",
       "205  2021122-Ronald - Descrição do Projeto   \n",
       "\n",
       "                                  funcaoSocial  \\\n",
       "79   2021122-Ronald - Descrição Funç]ap Social   \n",
       "80   2021122-Ronald - Descrição Funç]ap Social   \n",
       "82   2021122-Ronald - Descrição Funç]ap Social   \n",
       "83   2021122-Ronald - Descrição Funç]ap Social   \n",
       "205  2021122-Ronald - Descrição Funç]ap Social   \n",
       "\n",
       "                                  metaGlobal dataInicialPrevista  \\\n",
       "79   20211122-Ronald - Descrição Meta Global          2021-12-10   \n",
       "80   20211122-Ronald - Descrição Meta Global          2021-12-10   \n",
       "82   20211122-Ronald - Descrição Meta Global          2021-12-10   \n",
       "83   20211122-Ronald - Descrição Meta Global          2021-12-10   \n",
       "205  20211122-Ronald - Descrição Meta Global          2021-12-10   \n",
       "\n",
       "    dataFinalPrevista dataInicialEfetiva dataFinalEfetiva dataCadastro  \\\n",
       "79         2021-12-10                NaT              NaT   2021-11-17   \n",
       "80         2021-12-10                NaT              NaT   2021-11-17   \n",
       "82         2021-12-10                NaT              NaT   2021-11-17   \n",
       "83         2021-12-10                NaT              NaT   2021-11-17   \n",
       "205        2021-12-10                NaT              NaT   2021-11-17   \n",
       "\n",
       "         especie                                   natureza naturezaOutras  \\\n",
       "79    Fabricação                                    Projeto         outros   \n",
       "80       Reforma                                       Obra         outros   \n",
       "82       Reforma  Projeto de Investimento em Infraestrutura         outros   \n",
       "83       Reforma  Projeto de Investimento em Infraestrutura         outros   \n",
       "205  Recuperação  Projeto de Investimento em Infraestrutura         outros   \n",
       "\n",
       "       situacao descPlanoNacionalPoliticaVinculado  uf  qdtEmpregosGerados  \\\n",
       "79   Cadastrada                               None  DF                 NaN   \n",
       "80   Cadastrada                               None  DF                 NaN   \n",
       "82   Cadastrada                               None  DF                 NaN   \n",
       "83   Cadastrada                               None  DF                 NaN   \n",
       "205  Cadastrada                               None  DF                 NaN   \n",
       "\n",
       "    descPopulacaoBeneficiada  populacaoBeneficiada observacoesPertinentes  \\\n",
       "79                      None                   NaN                   None   \n",
       "80                      None                   NaN                   None   \n",
       "82                      None                   NaN                   None   \n",
       "83                      None                   NaN                   None   \n",
       "205                     None                   NaN                   None   \n",
       "\n",
       "     isModeladaPorBim dataSituacao  \n",
       "79               <NA>   2021-11-17  \n",
       "80               <NA>   2021-11-17  \n",
       "82               <NA>   2021-11-17  \n",
       "83               <NA>   2021-11-17  \n",
       "205              <NA>   2021-11-17  "
      ]
     },
     "execution_count": 27,
     "metadata": {},
     "output_type": "execute_result"
    }
   ],
   "source": [
    "# há um sujeito chamado Ronald Alves Vieira e ele está testando em produção\n",
    "test_df = df[df[\"nome\"].str.contains(\"Ronald\", case=False, na=False)]\n",
    "test_df.head()"
   ]
  },
  {
   "cell_type": "code",
   "execution_count": 28,
   "id": "56c34072",
   "metadata": {},
   "outputs": [
    {
     "name": "stdout",
     "output_type": "stream",
     "text": [
      "Removidos 22 projetos por serem registros falsos (efeitos colaterais de testes de integração)\n"
     ]
    }
   ],
   "source": [
    "# é possível que hajam mais casos que não encontrei\n",
    "# é possível que essa limpeza remova dados reais\n",
    "\n",
    "\n",
    "antes = df.shape[0]\n",
    "\n",
    "df = df[~df[\"nome\"].str.contains(\"Ronald\", case=False, na=False)]\n",
    "df = df[~df[\"nome\"].str.contains(\"Teste\", case=False, na=False)]\n",
    "\n",
    "depois = df.shape[0]\n",
    "\n",
    "print(\n",
    "    f\"Removidos {antes - depois} projetos por serem registros falsos (efeitos colaterais de testes de integração)\"\n",
    ")"
   ]
  },
  {
   "cell_type": "markdown",
   "id": "5a85fc33",
   "metadata": {},
   "source": [
    "### 2.5 Carregamento de dados\n"
   ]
  },
  {
   "cell_type": "code",
   "execution_count": 29,
   "id": "56c34072",
   "metadata": {},
   "outputs": [],
   "source": [
    "with sqlite3.connect(\"projeto_investimento.db\") as con:\n",
    "    # main\n",
    "    df.to_sql(\"projeto_investimento\", con, if_exists=\"replace\")\n",
    "\n",
    "    # entity tables\n",
    "    instituicoes_df.to_sql(\"instituicoes\", con, if_exists=\"replace\")\n",
    "    eixos_df.to_sql(\"eixos\", con, if_exists=\"replace\")\n",
    "    tipos_df.to_sql(\"tipos\", con, if_exists=\"replace\")\n",
    "    subtipos_df.to_sql(\"subtipos\", con, if_exists=\"replace\")\n",
    "    fontes_de_recurso_df.to_sql(\"fontes_de_recurso\", con, if_exists=\"replace\")\n",
    "\n",
    "    # junction tables\n",
    "    projeto_tomadores_df.to_sql(\"projeto_tomadores\", con, if_exists=\"replace\")\n",
    "    projeto_executores_df.to_sql(\"projeto_executores\", con, if_exists=\"replace\")\n",
    "    projeto_repassadores_df.to_sql(\"projeto_repassadores\", con, if_exists=\"replace\")\n",
    "    projeto_eixos_df.to_sql(\"projeto_eixos\", con, if_exists=\"replace\")\n",
    "    projeto_tipos_df.to_sql(\"projeto_tipos\", con, if_exists=\"replace\")\n",
    "    projeto_subtipos_df.to_sql(\"projeto_subtipos\", con, if_exists=\"replace\")"
   ]
  },
  {
   "cell_type": "code",
   "execution_count": 30,
   "id": "5a85fc33",
   "metadata": {},
   "outputs": [],
   "source": [
    "# with sqlite3.connect(\"projeto_investimento.db\") as con:\n",
    "#     df = pd.read_sql_query(\"SELECT * FROM projeto_investimento\", con)"
   ]
  },
  {
   "cell_type": "markdown",
   "id": "e69df6a4",
   "metadata": {},
   "source": [
    "### 2.5 Engenharia de características\n"
   ]
  },
  {
   "cell_type": "markdown",
   "id": "1ab44220",
   "metadata": {},
   "source": [
    "Criação de novas colunas para fins de análise\n",
    "\n",
    "-   `textoTotal`: concatenação de dados textuais de um registro para processamento de linguagem natural (NLP)\n",
    "-   `investimentoTotal`: consolidação de `fontesDeRecurso` para análise quantitativa\n",
    "-   `investimentoFaixa`: versão categórica de `investimentoTotal` por faixas (por exemplo, de 100 a 1000, de 1,000 a 10,000, etc.)\n",
    "-   `isInvestimentoSimbolico`: investimentos com valores menores que 1 real; assume-se que possuem valor simbólico\n",
    "-   `duracaoPrevista`: calcular duração prevista de projetos (via `dataInicialPrevista`, `dataFinalPrevista`)\n",
    "-   `lat`, `lon`: obtenção de dados geográficos (via `cep`) usando geocoding para visualização gráfica\n",
    "-   calcular\n"
   ]
  },
  {
   "cell_type": "code",
   "execution_count": 31,
   "id": "57801c36",
   "metadata": {},
   "outputs": [],
   "source": [
    "# textoTotal\n",
    "\n",
    "text_cols = [\n",
    "    \"nome\",\n",
    "    \"endereco\",\n",
    "    \"descricao\",\n",
    "    \"funcaoSocial\",\n",
    "    \"metaGlobal\",\n",
    "    \"especie\",\n",
    "    \"natureza\",\n",
    "    \"naturezaOutras\",\n",
    "    \"situacao\",\n",
    "    \"descPlanoNacionalPoliticaVinculado\",\n",
    "    \"descPopulacaoBeneficiada\",\n",
    "    \"observacoesPertinentes\",\n",
    "]\n",
    "\n",
    "\n",
    "def make_text_total(row):\n",
    "    text_total = []\n",
    "    for x in row:\n",
    "        if pd.notna(x):\n",
    "            text_total.append(str(x))\n",
    "    return \"\\n\\n\".join(text_total)\n",
    "\n",
    "\n",
    "df[\"textoTotal\"] = df[text_cols].apply(make_text_total, axis=1)"
   ]
  },
  {
   "cell_type": "code",
   "execution_count": 32,
   "id": "eb7555d9",
   "metadata": {},
   "outputs": [],
   "source": [
    "# investimentoTotal\n",
    "\n",
    "valor_por_id = (\n",
    "    fontes_de_recurso_df.groupby(\"idUnico\")[\"valorInvestimentoPrevisto\"]\n",
    "    .sum()\n",
    "    .reset_index()\n",
    ")\n",
    "\n",
    "valor_por_id.rename(\n",
    "    columns={\"valorInvestimentoPrevisto\": \"investimentoTotal\"}, inplace=True\n",
    ")\n",
    "\n",
    "df = df.merge(valor_por_id, on=\"idUnico\", how=\"left\", validate=\"one_to_one\")"
   ]
  },
  {
   "cell_type": "code",
   "execution_count": 33,
   "id": "eb7555d9",
   "metadata": {},
   "outputs": [],
   "source": [
    "# investimentoFaixa\n",
    "\n",
    "bins = [\n",
    "    0,\n",
    "    1,\n",
    "    10,\n",
    "    100,\n",
    "    1_000,\n",
    "    10_000,\n",
    "    100_000,\n",
    "    1_000_000,\n",
    "    10_000_000,\n",
    "    100_000_000,\n",
    "    1_000_000_000,\n",
    "    np.inf,\n",
    "]\n",
    "labels = [\n",
    "    \"<1\",\n",
    "    \"1-10\",\n",
    "    \"10-100\",\n",
    "    \"100-1k\",\n",
    "    \"1k-10k\",\n",
    "    \"10k-100k\",\n",
    "    \"100k-1M\",\n",
    "    \"1M-10M\",\n",
    "    \"10M-100M\",\n",
    "    \"100M-1B\",\n",
    "    \">1B\",\n",
    "]\n",
    "\n",
    "df[\"investimentoFaixa\"] = pd.cut(df[\"investimentoTotal\"], bins=bins, labels=labels)"
   ]
  },
  {
   "cell_type": "code",
   "execution_count": 34,
   "id": "518af74a",
   "metadata": {},
   "outputs": [
    {
     "data": {
      "image/png": "[encoded data removed]",
      "text/plain": [
       "<Figure size 1000x600 with 1 Axes>"
      ]
     },
     "metadata": {},
     "output_type": "display_data"
    }
   ],
   "source": [
    "# equivalente a escala logaritmica\n",
    "faixa_counts = df[\"investimentoFaixa\"].value_counts().reset_index()\n",
    "faixa_counts.columns = [\"investimentoFaixa\", \"count\"]\n",
    "\n",
    "plt.figure(figsize=(10, 6))\n",
    "ax = sns.barplot(\n",
    "    data=faixa_counts,\n",
    "    x=\"investimentoFaixa\",\n",
    "    y=\"count\",\n",
    "    hue=\"investimentoFaixa\",\n",
    "    palette=[palette[0] for _ in range(len(faixa_counts))],\n",
    ")\n",
    "\n",
    "# custom palette creates multiple containers\n",
    "for container in ax.containers:\n",
    "    ax.bar_label(container)  # type: ignore\n",
    "\n",
    "plt.xlabel(\"Faixa de Investimento (R$)\")\n",
    "plt.ylabel(\"Projetos\")\n",
    "plt.title(\"Projetos por Faixa de Investimento\")\n",
    "plt.tight_layout()\n",
    "plt.show()"
   ]
  },
  {
   "cell_type": "code",
   "execution_count": 35,
   "id": "518af74a",
   "metadata": {},
   "outputs": [
    {
     "data": {
      "text/plain": [
       "isInvestimentoSimbolico\n",
       "False    571\n",
       "True     119\n",
       "Name: count, dtype: int64"
      ]
     },
     "execution_count": 35,
     "metadata": {},
     "output_type": "execute_result"
    }
   ],
   "source": [
    "# isInvestimentoSimbolico\n",
    "\n",
    "df[\"isInvestimentoSimbolico\"] = df[\"investimentoTotal\"] <= 1\n",
    "df[\"isInvestimentoSimbolico\"].value_counts()"
   ]
  },
  {
   "cell_type": "code",
   "execution_count": 36,
   "id": "4167d3c0",
   "metadata": {},
   "outputs": [],
   "source": [
    "# duracaoPrevista\n",
    "df[\"duracaoPrevista\"] = df[\"dataFinalPrevista\"] - df[\"dataInicialPrevista\"]"
   ]
  },
  {
   "cell_type": "code",
   "execution_count": 37,
   "id": "65bf64d2",
   "metadata": {},
   "outputs": [],
   "source": [
    "# lat, lon\n",
    "\n",
    "# todo"
   ]
  },
  {
   "cell_type": "markdown",
   "id": "a782472f",
   "metadata": {},
   "source": [
    "## 3. Análise\n"
   ]
  },
  {
   "cell_type": "markdown",
   "id": "c344f65d",
   "metadata": {},
   "source": [
    "### 3.1 Informações básicas\n",
    "\n",
    "**Colunas:**\n",
    "\n",
    "-   **texto**\n",
    "\n",
    "    -   dados básicos: `idUnico`, `nome`, `descricao`, `funcaoSocial`, `metaGlobal`\n",
    "    -   descrições opcionais: `naturezaOutras`, `descPlanoNacionalPoliticaVinculado`, `descPopulacaoBeneficiada`, `observacoesPertinentes`\n",
    "    -   criada: `textoTotal`,\n",
    "\n",
    "-   **geográfico**\n",
    "\n",
    "    -   `cep`, `endereco`\n",
    "    -   criada: `lat`, `lon`\n",
    "\n",
    "-   **numéricos**\n",
    "\n",
    "    -   `qdtEmpregosGerados`\n",
    "    -   `populacaoBeneficiada`\n",
    "    -   criada: `investimentoTotal`\n",
    "\n",
    "-   **datas**\n",
    "\n",
    "    -   `dataInicialPrevista`, `dataFinalPrevista`, `dataInicialEfetiva`, `dataFinalEfetiva`, `dataCadastro`, `dataSituacao`\n",
    "    -   criada: `duracaoPrevista`\n",
    "\n",
    "-   **categorias**\n",
    "\n",
    "    -   `natureza` (Estudo, Obra, Outros, Projeto, Projeto de Investimento em Infraestrutura)\n",
    "    -   `situacao` (Cadastrada, Cancelada, Concluída, Em execução, Inacabada, Inativada, Paralisada)\n",
    "    -   `especie` (Ampliação, Construção, Fabricação, Máquinas e Equipamentos, Recuperação, Reforma)\n",
    "    -   `uf` (DF)\n",
    "    -   `isModeladaPorBim` (boolean)\n",
    "    -   criada: `investimentoFaixa` (boolean)\n",
    "    -   criada: `isInvestimentoSimbolico` (boolean)\n",
    "\n",
    "-   **colunas aninhadas** (removidas após normalização)\n",
    "    -   `tomadores`, `executores`, `repassadores`, `eixos`, `tipos`, `subTipos`, `fontesDeRecurso`\n",
    "\n",
    "**Registros:** 712 (após deduplicação de 834 registros originais)\n",
    "\n",
    "**Valores ausentes mais significativos:**\n",
    "\n",
    "-   `dataFinalEfetiva`: 707 nulos (99.3%)\n",
    "-   `dataInicialEfetiva`: 690 nulos (96.9%)\n",
    "-   `qdtEmpregosGerados`: 677 nulos (95.1%)\n",
    "-   `populacaoBeneficiada`: 677 nulos (95.1%)\n",
    "-   `endereco`: 337 nulos (47.3%)\n",
    "-   `cep`: 365 nulos (51.3%)\n",
    "-   `descPlanoNacionalPoliticaVinculado`: 464 nulos (65.2%)\n",
    "-   `isModeladaPorBim`: 216 nulos (30.3%)\n",
    "\n",
    "As colunas aninhadas foram normalizadas e separadas em tabelas relacionadas no banco de dados SQLite, incluindo tabelas de entidades (instituições, eixos, tipos, subtipos, fontes de recurso) e tabelas de junção (projeto_tomadores, projeto_executores, projeto_repassadores, projeto_eixos, projeto_tipos, projeto_subtipos).\n",
    "\n",
    "Tomadores, executores e repassadores partilham do mesmo sistema de códigos e portanto estão armazenados na mesma tabela.\n",
    "\n",
    "Eixos, tipos, subtipos poderiam ser armazenados na mesma tabela com perda de normalização mas ganho em simplicidade.\n"
   ]
  },
  {
   "cell_type": "markdown",
   "id": "afd1b14b",
   "metadata": {},
   "source": [
    "### 3.2 Qualidade\n"
   ]
  },
  {
   "cell_type": "markdown",
   "id": "8136739e",
   "metadata": {},
   "source": [
    "Em questão de anomalias, temos:\n",
    "\n",
    "1.  duplicados que diferem apenas no subtipo, como: dois registros com id 15 e mesma descrição \"Aquisição de Máquinas e Equipamentos\", mas idTipo diferentes (41 e 14).\n",
    "\n",
    "2.  organizacoes com mais de um codigo, como: \"PRESIDÊNCIA DA REPÚBLICA\" (codigo 26) e \"Presidencia da República\" (codigo 20000)\n",
    "\n",
    "3.  Vários campos (`cep`, `endereco`, `qdtEmpregosGerados`) preenchidos com um espaço em branco, dando a impressão que tem menos nulos do que realmente tem.\n",
    "\n",
    "    4.  CEPs preenchidos errado (`1` e ' ')\n",
    "    5.  125 registros similares com os mesmos problemas (' ' em vez de int em `qdtEmpregosGerados` e `populacaoBeneficiada`)\n",
    "\n",
    "4.  Registro de teste (`22312.53-84`), encontrado porque é o único com dois investimentos, os dois com valor de um centavo.\n",
    "\n",
    "5.  `descPopulacaoBeneficiada` com texto padrão\n",
    "\n",
    "6.  `descPlanoNacionalPoliticaVinculado`: alguns usuários tratam como valor categórico e outros como texto\n",
    "\n",
    "7.  `populacaoBeneficiada` alguns registros todos em maiusculo ('CONSTRUÇÃO DO NOVO IML DA PCDF')\n",
    "\n",
    "8.  alguns nomes são apenas códigos (`26.782.2087.7T98.0025`)\n",
    "\n",
    "9.  22 registros são testes e foram descartados; alguns possuem valores de investimento que poderam distorcer análises. alguns são mais obviamente testes (`40456.53-49`) do que outros (`2843.53-36`)\n",
    "\n",
    "10. 8 projetos com exatamente 50 empregos gerados sem relação aparente entre si\n",
    "    -   idUnico: 11486.53-40, 19176.53-10, 30067.53-80, 31923.53-48,9854.53-01, 91397.53-15, 91392.53-43, 31897.53-36.\n",
    "\n",
    "11. projetos com investimento entre 1 e 10 milhões com duração prevista de zero dias.\n",
    "\n",
    "Sem mais informações sobre o domínio, é dificil comentar o significado dessas questões. Mas são algo a ser investigado. Possivelmente, isso indica confusão pela parte dos usuários, ou falta de adequação entre os campos do formulário e a realidade dos projetos. De qualquer forma, uma forma de reduzir isso seria incluir validação antes de salvar no banco de dados (por exemplo, recusar o CEP '1') ou transformá-los antes de inserir (por exemplo, converter o CEP ' ' para nulo)\n"
   ]
  },
  {
   "cell_type": "markdown",
   "id": "eef4cf46",
   "metadata": {},
   "source": [
    "### 3.3 Descritiva\n"
   ]
  },
  {
   "cell_type": "markdown",
   "id": "eef4cf46",
   "metadata": {},
   "source": [
    "#### 3.3.1 Variáveis categóricas\n"
   ]
  },
  {
   "cell_type": "code",
   "execution_count": 38,
   "id": "5bb57e2b",
   "metadata": {},
   "outputs": [
    {
     "data": {
      "text/html": [
       "<div>\n",
       "<style scoped>\n",
       "    .dataframe tbody tr th:only-of-type {\n",
       "        vertical-align: middle;\n",
       "    }\n",
       "\n",
       "    .dataframe tbody tr th {\n",
       "        vertical-align: top;\n",
       "    }\n",
       "\n",
       "    .dataframe thead th {\n",
       "        text-align: right;\n",
       "    }\n",
       "</style>\n",
       "<table border=\"1\" class=\"dataframe\">\n",
       "  <thead>\n",
       "    <tr style=\"text-align: right;\">\n",
       "      <th></th>\n",
       "      <th>idUnico</th>\n",
       "      <th>nome</th>\n",
       "      <th>cep</th>\n",
       "      <th>endereco</th>\n",
       "      <th>descricao</th>\n",
       "      <th>funcaoSocial</th>\n",
       "      <th>metaGlobal</th>\n",
       "      <th>dataInicialPrevista</th>\n",
       "      <th>dataFinalPrevista</th>\n",
       "      <th>dataInicialEfetiva</th>\n",
       "      <th>dataFinalEfetiva</th>\n",
       "      <th>dataCadastro</th>\n",
       "      <th>especie</th>\n",
       "      <th>natureza</th>\n",
       "      <th>naturezaOutras</th>\n",
       "      <th>situacao</th>\n",
       "      <th>descPlanoNacionalPoliticaVinculado</th>\n",
       "      <th>uf</th>\n",
       "      <th>qdtEmpregosGerados</th>\n",
       "      <th>descPopulacaoBeneficiada</th>\n",
       "      <th>populacaoBeneficiada</th>\n",
       "      <th>observacoesPertinentes</th>\n",
       "      <th>isModeladaPorBim</th>\n",
       "      <th>dataSituacao</th>\n",
       "      <th>textoTotal</th>\n",
       "      <th>investimentoTotal</th>\n",
       "      <th>investimentoFaixa</th>\n",
       "      <th>isInvestimentoSimbolico</th>\n",
       "      <th>duracaoPrevista</th>\n",
       "    </tr>\n",
       "  </thead>\n",
       "  <tbody>\n",
       "    <tr>\n",
       "      <th>0</th>\n",
       "      <td>1828.53-16</td>\n",
       "      <td>SISEG - Sistema integrado de segurança</td>\n",
       "      <td>None</td>\n",
       "      <td>None</td>\n",
       "      <td>implantação dos sistemas de monitoramento por ...</td>\n",
       "      <td>implantação dos sistemas de monitoramento por ...</td>\n",
       "      <td>Modernização do sistema de segurança do Banco ...</td>\n",
       "      <td>2019-02-04</td>\n",
       "      <td>2024-02-06</td>\n",
       "      <td>NaT</td>\n",
       "      <td>NaT</td>\n",
       "      <td>2021-05-12</td>\n",
       "      <td>Recuperação</td>\n",
       "      <td>Projeto</td>\n",
       "      <td></td>\n",
       "      <td>Cadastrada</td>\n",
       "      <td>None</td>\n",
       "      <td>DF</td>\n",
       "      <td>NaN</td>\n",
       "      <td>None</td>\n",
       "      <td>NaN</td>\n",
       "      <td>None</td>\n",
       "      <td>&lt;NA&gt;</td>\n",
       "      <td>2021-05-12</td>\n",
       "      <td>SISEG - Sistema integrado de segurança\\n\\nimpl...</td>\n",
       "      <td>23427554.88</td>\n",
       "      <td>10M-100M</td>\n",
       "      <td>False</td>\n",
       "      <td>1828 days</td>\n",
       "    </tr>\n",
       "    <tr>\n",
       "      <th>1</th>\n",
       "      <td>1711.53-18</td>\n",
       "      <td>Reforma do espelho d'água do Edifício-Sede do ...</td>\n",
       "      <td>None</td>\n",
       "      <td>None</td>\n",
       "      <td>Reforma do espelho d'água do Edifício-Sede do ...</td>\n",
       "      <td>Reestabelecer a impermeabilização do espelho d...</td>\n",
       "      <td>Recuperação do sistema de impermeabilização e ...</td>\n",
       "      <td>2021-01-04</td>\n",
       "      <td>2021-05-18</td>\n",
       "      <td>NaT</td>\n",
       "      <td>NaT</td>\n",
       "      <td>2021-05-04</td>\n",
       "      <td>Reforma</td>\n",
       "      <td>Obra</td>\n",
       "      <td></td>\n",
       "      <td>Cadastrada</td>\n",
       "      <td>None</td>\n",
       "      <td>DF</td>\n",
       "      <td>NaN</td>\n",
       "      <td>None</td>\n",
       "      <td>NaN</td>\n",
       "      <td>None</td>\n",
       "      <td>&lt;NA&gt;</td>\n",
       "      <td>2021-05-04</td>\n",
       "      <td>Reforma do espelho d'água do Edifício-Sede do ...</td>\n",
       "      <td>139328.54</td>\n",
       "      <td>100k-1M</td>\n",
       "      <td>False</td>\n",
       "      <td>134 days</td>\n",
       "    </tr>\n",
       "    <tr>\n",
       "      <th>2</th>\n",
       "      <td>1989.53-01</td>\n",
       "      <td>Elaboração de projetos arquitetônicos e de eng...</td>\n",
       "      <td>None</td>\n",
       "      <td>Campus Universitário Darcy Ribeiro, Brasília - DF</td>\n",
       "      <td>Contratação de empresa especializada para elab...</td>\n",
       "      <td>Obras para unidades acadêmicas de ensino e pes...</td>\n",
       "      <td>Elaboração de projetos de engenharia e Arquite...</td>\n",
       "      <td>2021-05-18</td>\n",
       "      <td>2021-09-29</td>\n",
       "      <td>NaT</td>\n",
       "      <td>NaT</td>\n",
       "      <td>2021-05-17</td>\n",
       "      <td>Construção</td>\n",
       "      <td>Projeto</td>\n",
       "      <td>None</td>\n",
       "      <td>Cadastrada</td>\n",
       "      <td>None</td>\n",
       "      <td>DF</td>\n",
       "      <td>NaN</td>\n",
       "      <td>None</td>\n",
       "      <td>NaN</td>\n",
       "      <td>None</td>\n",
       "      <td>&lt;NA&gt;</td>\n",
       "      <td>2021-05-17</td>\n",
       "      <td>Elaboração de projetos arquitetônicos e de eng...</td>\n",
       "      <td>1399545.52</td>\n",
       "      <td>1M-10M</td>\n",
       "      <td>False</td>\n",
       "      <td>134 days</td>\n",
       "    </tr>\n",
       "    <tr>\n",
       "      <th>3</th>\n",
       "      <td>2004.53-58</td>\n",
       "      <td>SISEG - Sistema integrado de segurança</td>\n",
       "      <td>None</td>\n",
       "      <td>None</td>\n",
       "      <td>implantação dos sistemas de monitoramento por ...</td>\n",
       "      <td>implantação dos sistemas de monitoramento por ...</td>\n",
       "      <td>Modernização do sistema de segurança do Banco ...</td>\n",
       "      <td>2019-02-04</td>\n",
       "      <td>2024-02-06</td>\n",
       "      <td>NaT</td>\n",
       "      <td>NaT</td>\n",
       "      <td>2021-05-18</td>\n",
       "      <td>Recuperação</td>\n",
       "      <td>Projeto</td>\n",
       "      <td></td>\n",
       "      <td>Cadastrada</td>\n",
       "      <td>None</td>\n",
       "      <td>DF</td>\n",
       "      <td>NaN</td>\n",
       "      <td>None</td>\n",
       "      <td>NaN</td>\n",
       "      <td>None</td>\n",
       "      <td>&lt;NA&gt;</td>\n",
       "      <td>2021-05-18</td>\n",
       "      <td>SISEG - Sistema integrado de segurança\\n\\nimpl...</td>\n",
       "      <td>23427554.88</td>\n",
       "      <td>10M-100M</td>\n",
       "      <td>False</td>\n",
       "      <td>1828 days</td>\n",
       "    </tr>\n",
       "    <tr>\n",
       "      <th>4</th>\n",
       "      <td>2617.53-02</td>\n",
       "      <td>CENTRO DE FORMAÇÃO TECNOLOGICA - CFT - CAMPUS ...</td>\n",
       "      <td>None</td>\n",
       "      <td>Área Especial n° 01, Quadra 16, Cidade do Auto...</td>\n",
       "      <td>construção um galpão com pé direito alto, que ...</td>\n",
       "      <td>atender a comunidade acadêmica do Campus Estru...</td>\n",
       "      <td>aumentar a oferta de cursos técnicos/tecnológi...</td>\n",
       "      <td>2020-12-01</td>\n",
       "      <td>2021-10-27</td>\n",
       "      <td>NaT</td>\n",
       "      <td>NaT</td>\n",
       "      <td>2021-06-18</td>\n",
       "      <td>Construção</td>\n",
       "      <td>Obra</td>\n",
       "      <td></td>\n",
       "      <td>Cadastrada</td>\n",
       "      <td>triplicar as matrículas da educação profission...</td>\n",
       "      <td>DF</td>\n",
       "      <td>NaN</td>\n",
       "      <td>None</td>\n",
       "      <td>NaN</td>\n",
       "      <td>None</td>\n",
       "      <td>&lt;NA&gt;</td>\n",
       "      <td>2021-06-18</td>\n",
       "      <td>CENTRO DE FORMAÇÃO TECNOLOGICA - CFT - CAMPUS ...</td>\n",
       "      <td>1862560.00</td>\n",
       "      <td>1M-10M</td>\n",
       "      <td>False</td>\n",
       "      <td>330 days</td>\n",
       "    </tr>\n",
       "  </tbody>\n",
       "</table>\n",
       "</div>"
      ],
      "text/plain": [
       "      idUnico                                               nome   cep  \\\n",
       "0  1828.53-16             SISEG - Sistema integrado de segurança  None   \n",
       "1  1711.53-18  Reforma do espelho d'água do Edifício-Sede do ...  None   \n",
       "2  1989.53-01  Elaboração de projetos arquitetônicos e de eng...  None   \n",
       "3  2004.53-58             SISEG - Sistema integrado de segurança  None   \n",
       "4  2617.53-02  CENTRO DE FORMAÇÃO TECNOLOGICA - CFT - CAMPUS ...  None   \n",
       "\n",
       "                                            endereco  \\\n",
       "0                                               None   \n",
       "1                                               None   \n",
       "2  Campus Universitário Darcy Ribeiro, Brasília - DF   \n",
       "3                                               None   \n",
       "4  Área Especial n° 01, Quadra 16, Cidade do Auto...   \n",
       "\n",
       "                                           descricao  \\\n",
       "0  implantação dos sistemas de monitoramento por ...   \n",
       "1  Reforma do espelho d'água do Edifício-Sede do ...   \n",
       "2  Contratação de empresa especializada para elab...   \n",
       "3  implantação dos sistemas de monitoramento por ...   \n",
       "4  construção um galpão com pé direito alto, que ...   \n",
       "\n",
       "                                        funcaoSocial  \\\n",
       "0  implantação dos sistemas de monitoramento por ...   \n",
       "1  Reestabelecer a impermeabilização do espelho d...   \n",
       "2  Obras para unidades acadêmicas de ensino e pes...   \n",
       "3  implantação dos sistemas de monitoramento por ...   \n",
       "4  atender a comunidade acadêmica do Campus Estru...   \n",
       "\n",
       "                                          metaGlobal dataInicialPrevista  \\\n",
       "0  Modernização do sistema de segurança do Banco ...          2019-02-04   \n",
       "1  Recuperação do sistema de impermeabilização e ...          2021-01-04   \n",
       "2  Elaboração de projetos de engenharia e Arquite...          2021-05-18   \n",
       "3  Modernização do sistema de segurança do Banco ...          2019-02-04   \n",
       "4  aumentar a oferta de cursos técnicos/tecnológi...          2020-12-01   \n",
       "\n",
       "  dataFinalPrevista dataInicialEfetiva dataFinalEfetiva dataCadastro  \\\n",
       "0        2024-02-06                NaT              NaT   2021-05-12   \n",
       "1        2021-05-18                NaT              NaT   2021-05-04   \n",
       "2        2021-09-29                NaT              NaT   2021-05-17   \n",
       "3        2024-02-06                NaT              NaT   2021-05-18   \n",
       "4        2021-10-27                NaT              NaT   2021-06-18   \n",
       "\n",
       "       especie natureza naturezaOutras    situacao  \\\n",
       "0  Recuperação  Projeto                 Cadastrada   \n",
       "1      Reforma     Obra                 Cadastrada   \n",
       "2   Construção  Projeto           None  Cadastrada   \n",
       "3  Recuperação  Projeto                 Cadastrada   \n",
       "4   Construção     Obra                 Cadastrada   \n",
       "\n",
       "                  descPlanoNacionalPoliticaVinculado  uf  qdtEmpregosGerados  \\\n",
       "0                                               None  DF                 NaN   \n",
       "1                                               None  DF                 NaN   \n",
       "2                                               None  DF                 NaN   \n",
       "3                                               None  DF                 NaN   \n",
       "4  triplicar as matrículas da educação profission...  DF                 NaN   \n",
       "\n",
       "  descPopulacaoBeneficiada  populacaoBeneficiada observacoesPertinentes  \\\n",
       "0                     None                   NaN                   None   \n",
       "1                     None                   NaN                   None   \n",
       "2                     None                   NaN                   None   \n",
       "3                     None                   NaN                   None   \n",
       "4                     None                   NaN                   None   \n",
       "\n",
       "   isModeladaPorBim dataSituacao  \\\n",
       "0              <NA>   2021-05-12   \n",
       "1              <NA>   2021-05-04   \n",
       "2              <NA>   2021-05-17   \n",
       "3              <NA>   2021-05-18   \n",
       "4              <NA>   2021-06-18   \n",
       "\n",
       "                                          textoTotal  investimentoTotal  \\\n",
       "0  SISEG - Sistema integrado de segurança\\n\\nimpl...        23427554.88   \n",
       "1  Reforma do espelho d'água do Edifício-Sede do ...          139328.54   \n",
       "2  Elaboração de projetos arquitetônicos e de eng...         1399545.52   \n",
       "3  SISEG - Sistema integrado de segurança\\n\\nimpl...        23427554.88   \n",
       "4  CENTRO DE FORMAÇÃO TECNOLOGICA - CFT - CAMPUS ...         1862560.00   \n",
       "\n",
       "  investimentoFaixa  isInvestimentoSimbolico duracaoPrevista  \n",
       "0          10M-100M                    False       1828 days  \n",
       "1           100k-1M                    False        134 days  \n",
       "2            1M-10M                    False        134 days  \n",
       "3          10M-100M                    False       1828 days  \n",
       "4            1M-10M                    False        330 days  "
      ]
     },
     "execution_count": 38,
     "metadata": {},
     "output_type": "execute_result"
    }
   ],
   "source": [
    "df.head(5)"
   ]
  },
  {
   "cell_type": "code",
   "execution_count": 39,
   "id": "a26e262e",
   "metadata": {},
   "outputs": [
    {
     "data": {
      "image/png": "[encoded data removed]",
      "text/plain": [
       "<Figure size 800x200 with 1 Axes>"
      ]
     },
     "metadata": {},
     "output_type": "display_data"
    }
   ],
   "source": [
    "palette_bool = [\"#18CEE6\", \"#412355\", \"#F2701C\"]\n",
    "\n",
    "# Convert and reorder\n",
    "bim_map = {True: \"Sim\", False: \"Não\"}\n",
    "bim_counts = (\n",
    "    df[\"isModeladaPorBim\"].map(bim_map).fillna(\"Sem dados\").value_counts(dropna=False)\n",
    ")\n",
    "\n",
    "# Specify custom order\n",
    "desired_order = [\"Sim\", \"Não\", \"Sem dados\"]\n",
    "bim_counts = bim_counts.reindex(desired_order)\n",
    "percentages = bim_counts / bim_counts.sum() * 100\n",
    "\n",
    "# Create stacked bar\n",
    "fig, ax = plt.subplots(figsize=(8, 2))\n",
    "left = 0\n",
    "colors = [palette_bool[i] for i in range(len(bim_counts))]\n",
    "for i, (label, pct) in enumerate(zip(bim_counts.index, percentages)):\n",
    "    ax.barh(\n",
    "        0,\n",
    "        pct,\n",
    "        left=left,\n",
    "        color=colors[i],\n",
    "        label=f\"{label}: {bim_counts.iloc[i]} ({pct:.1f}%)\",\n",
    "    )\n",
    "    left += pct\n",
    "\n",
    "ax.set_xlim(0, 100)\n",
    "ax.set_yticks([])\n",
    "ax.set_xlabel(\"Percentage\")\n",
    "ax.set_title(\"Projeto modelado usando BIM (Building Information Modeling)\")\n",
    "ax.legend(loc=\"center left\", bbox_to_anchor=(1, 0.5))\n",
    "plt.tight_layout()\n",
    "plt.show()"
   ]
  },
  {
   "cell_type": "markdown",
   "id": "a26e262e",
   "metadata": {},
   "source": [
    "Apenas 3.5% dos projetos usou BIM, enquanto 66.2% não usou.\n"
   ]
  },
  {
   "cell_type": "code",
   "execution_count": 40,
   "id": "01530e31",
   "metadata": {},
   "outputs": [],
   "source": [
    "def make_barh_plot(\n",
    "    df: pd.DataFrame,\n",
    "    column: str,\n",
    "    title: str,\n",
    "    color: str,\n",
    "    extra_space: float = 1,\n",
    "    show_percentages: bool = False,\n",
    "):\n",
    "    plt.figure(figsize=(10, 6))\n",
    "\n",
    "    # Get counts and percentages\n",
    "    value_counts = df[column].value_counts(dropna=False)\n",
    "    percentages = (value_counts / len(df)) * 100\n",
    "\n",
    "    # Create DataFrame with both counts and percentages\n",
    "    value_counts_df = pd.DataFrame(\n",
    "        {\"count\": value_counts, column: value_counts.index, \"percentage\": percentages}\n",
    "    ).reset_index(drop=True)\n",
    "\n",
    "    ax = sns.barplot(\n",
    "        data=value_counts_df,\n",
    "        x=\"count\",\n",
    "        y=column,\n",
    "        hue=column,\n",
    "        orient=\"h\",\n",
    "        order=value_counts_df[column],\n",
    "        palette=[color for _ in range(len(value_counts_df))],\n",
    "        legend=False,\n",
    "    )\n",
    "\n",
    "    # Add labels with count and optionally percentage\n",
    "    for i, v in enumerate(value_counts_df[\"count\"]):\n",
    "        if show_percentages:\n",
    "            label = f\"{int(v)} ({percentages[i]:.1f}%)\"\n",
    "        else:\n",
    "            label = f\"{int(v)}\"\n",
    "        ax.text(v + 5, i, label, va=\"center\")  # padding\n",
    "\n",
    "    # Extend x-axis to accommodate labels\n",
    "    max_val = value_counts_df[\"count\"].max()\n",
    "    ax.set_xlim(0, max_val * extra_space)\n",
    "\n",
    "    plt.title(title)\n",
    "    plt.xlabel(\"Quantidade\")\n",
    "    plt.ylabel(\"\")\n",
    "    plt.tight_layout()\n",
    "    plt.show()"
   ]
  },
  {
   "cell_type": "code",
   "execution_count": 41,
   "id": "01530e31",
   "metadata": {},
   "outputs": [
    {
     "data": {
      "image/png": "[encoded data removed]",
      "text/plain": [
       "<Figure size 1000x600 with 1 Axes>"
      ]
     },
     "metadata": {},
     "output_type": "display_data"
    },
    {
     "data": {
      "image/png": "[encoded data removed]",
      "text/plain": [
       "<Figure size 1000x600 with 1 Axes>"
      ]
     },
     "metadata": {},
     "output_type": "display_data"
    },
    {
     "name": "stderr",
     "output_type": "stream",
     "text": [
      "/tmp/ipykernel_30173/3272935303.py:20: UserWarning: The palette list has more values (7) than needed (6), which may not be intended.\n",
      "  ax = sns.barplot(\n"
     ]
    },
    {
     "data": {
      "image/png": "[encoded data removed]",
      "text/plain": [
       "<Figure size 1000x600 with 1 Axes>"
      ]
     },
     "metadata": {},
     "output_type": "display_data"
    }
   ],
   "source": [
    "make_barh_plot(df, \"natureza\", \"Natureza dos projetos\", palette[0], extra_space=1.18)\n",
    "\n",
    "make_barh_plot(df, \"situacao\", \"Situação dos projetos\", palette[1], extra_space=1.14)\n",
    "\n",
    "make_barh_plot(df, \"especie\", \"Espécies de projetos\", palette[2])"
   ]
  },
  {
   "cell_type": "markdown",
   "id": "01530e31",
   "metadata": {},
   "source": [
    "---\n",
    "\n",
    "Resumo das variáveis categóricas:\n",
    "\n",
    "-   **BIM**: Apenas 3.5% dos projetos usou BIM, enquanto 66.2% não usou.\n",
    "-   **Natureza dos projetos**: A grande maioria dos itens (73%) é classificado como obra, e não como projeto ou projeto de investimento em infraestrutura.\n",
    "-   **Situação dos projetos**: 76% projetos estão cadastrados, com 11% em execução, 8% concluídos e 3% inativados, cancelados, paralisados ou inacabados.\n",
    "-   **Espécies de projetos**: 44% construção de novos projetos e 54% reforma, ampliação ou recuperação de projetos existentes.\n"
   ]
  },
  {
   "cell_type": "markdown",
   "id": "08873e05",
   "metadata": {},
   "source": [
    "#### 3.3.2 Variáveis quantitativas\n"
   ]
  },
  {
   "cell_type": "code",
   "execution_count": 42,
   "id": "08873e05",
   "metadata": {},
   "outputs": [
    {
     "name": "stdout",
     "output_type": "stream",
     "text": [
      "NaN percentage for qdtEmpregosGerados: 94.9%\n",
      "NaN percentage for populacaoBeneficiada: 94.9%\n",
      "Number of rows where both values are NaN: 94.3%\n",
      "\n",
      "Non-nan values in both columns: 31\n",
      "Non-nan values in qdtEmpregosGerados: 35\n",
      "Non-nan values in populacaoBeneficiada: 35\n"
     ]
    }
   ],
   "source": [
    "count = len(df[\"qdtEmpregosGerados\"])\n",
    "nans = df[\"qdtEmpregosGerados\"].isna().sum()\n",
    "print(f\"NaN percentage for qdtEmpregosGerados: {nans/count*100:.1f}%\")\n",
    "\n",
    "count = len(df[\"populacaoBeneficiada\"])\n",
    "nans = df[\"populacaoBeneficiada\"].isna().sum()\n",
    "print(f\"NaN percentage for populacaoBeneficiada: {nans/count*100:.1f}%\")\n",
    "\n",
    "both_nan = df[df[\"qdtEmpregosGerados\"].isna() & df[\"populacaoBeneficiada\"].isna()]\n",
    "print(f\"Number of rows where both values are NaN: {len(both_nan)/len(df)*100:.1f}%\")\n",
    "print()\n",
    "print(\n",
    "    f'Non-nan values in both columns: {len(df[df[\"qdtEmpregosGerados\"].notna() & df[\"populacaoBeneficiada\"].notna()])}'\n",
    ")\n",
    "print(\n",
    "    f'Non-nan values in qdtEmpregosGerados: {len(df[df[\"qdtEmpregosGerados\"].notna()])}'\n",
    ")\n",
    "print(\n",
    "    f'Non-nan values in populacaoBeneficiada: {len(df[df[\"populacaoBeneficiada\"].notna()])}'\n",
    ")"
   ]
  },
  {
   "cell_type": "code",
   "execution_count": 43,
   "id": "08873e05",
   "metadata": {},
   "outputs": [],
   "source": [
    "# quant_df = df[df[\"qdtEmpregosGerados\"].notna() & df[\"populacaoBeneficiada\"].notna()]\n",
    "\n",
    "# make_barh_plot(\n",
    "#     quant_df, \"natureza\", \"Natureza dos projetos\", palette[0], show_percentages=False\n",
    "# )\n",
    "\n",
    "# make_barh_plot(\n",
    "#     quant_df, \"situacao\", \"Situacao de projetos\", palette[1], show_percentages=False\n",
    "# )\n",
    "\n",
    "# make_barh_plot(\n",
    "#     quant_df, \"especie\", \"Especies de projetos\", palette[2], show_percentages=False\n",
    "# )"
   ]
  },
  {
   "cell_type": "markdown",
   "id": "74ca743a",
   "metadata": {},
   "source": [
    "Devemos considerar que estes dados estão faltando em 95% dos registros. Apesar disso, os 5% dos projetos com dados quantitativos parecem possuir a mesma distribuição da amostra geral (conferme célula anterior, removida por simplicidade) -- não são apenas projetos em execução/concluídos, como eu imaginava. Portanto, isso sugere que é uma questão de problemas de coleta de dados, e não de que esses dados só existem quando um projeto é executado ou concluído.\n"
   ]
  },
  {
   "cell_type": "code",
   "execution_count": 44,
   "id": "d32ac31f",
   "metadata": {},
   "outputs": [
    {
     "data": {
      "image/png": "[encoded data removed]",
      "text/plain": [
       "<Figure size 1000x300 with 1 Axes>"
      ]
     },
     "metadata": {},
     "output_type": "display_data"
    }
   ],
   "source": [
    "# swarm plot escolhido em vez de histograma pois só há 35 observações\n",
    "plt.figure(figsize=(10, 3))\n",
    "sns.swarmplot(data=df, x=\"qdtEmpregosGerados\", size=8, color=palette[0])\n",
    "plt.title(\"Quantidade de Empregos Gerados\")\n",
    "plt.xlabel(\"Empregos Gerados\")\n",
    "plt.show()"
   ]
  },
  {
   "cell_type": "code",
   "execution_count": 45,
   "id": "a7df8756",
   "metadata": {},
   "outputs": [
    {
     "data": {
      "text/html": [
       "<div>\n",
       "<style scoped>\n",
       "    .dataframe tbody tr th:only-of-type {\n",
       "        vertical-align: middle;\n",
       "    }\n",
       "\n",
       "    .dataframe tbody tr th {\n",
       "        vertical-align: top;\n",
       "    }\n",
       "\n",
       "    .dataframe thead th {\n",
       "        text-align: right;\n",
       "    }\n",
       "</style>\n",
       "<table border=\"1\" class=\"dataframe\">\n",
       "  <thead>\n",
       "    <tr style=\"text-align: right;\">\n",
       "      <th></th>\n",
       "      <th>idUnico</th>\n",
       "      <th>nome</th>\n",
       "      <th>descricao</th>\n",
       "      <th>qdtEmpregosGerados</th>\n",
       "    </tr>\n",
       "  </thead>\n",
       "  <tbody>\n",
       "    <tr>\n",
       "      <th>78</th>\n",
       "      <td>10834.53-24</td>\n",
       "      <td>CONSTRUÇÃO DO NOVO IML DA PCDF</td>\n",
       "      <td>Construção do novo Instituto de Medicina Legal...</td>\n",
       "      <td>478.0</td>\n",
       "    </tr>\n",
       "  </tbody>\n",
       "</table>\n",
       "</div>"
      ],
      "text/plain": [
       "        idUnico                            nome  \\\n",
       "78  10834.53-24  CONSTRUÇÃO DO NOVO IML DA PCDF   \n",
       "\n",
       "                                            descricao  qdtEmpregosGerados  \n",
       "78  Construção do novo Instituto de Medicina Legal...               478.0  "
      ]
     },
     "execution_count": 45,
     "metadata": {},
     "output_type": "execute_result"
    }
   ],
   "source": [
    "# outlier de empregos gerados\n",
    "df[[\"idUnico\", \"nome\", \"descricao\", \"qdtEmpregosGerados\"]].sort_values(\n",
    "    by=\"qdtEmpregosGerados\", ascending=False\n",
    ").head(1)"
   ]
  },
  {
   "cell_type": "code",
   "execution_count": 46,
   "id": "a7df8756",
   "metadata": {},
   "outputs": [
    {
     "name": "stdout",
     "output_type": "stream",
     "text": [
      "Mode value: 50.0\n",
      "Number of projects with mode value: 8\n"
     ]
    }
   ],
   "source": [
    "# pq tem 8 projetos com exatamente 50 empregos gerados?\n",
    "qtd_mode = df[\"qdtEmpregosGerados\"].mode().values[0]\n",
    "print(f\"Mode value: {qtd_mode}\")\n",
    "print(\n",
    "    f\"Number of projects with mode value: {len(df[df['qdtEmpregosGerados'] == qtd_mode])}\"\n",
    ")"
   ]
  },
  {
   "cell_type": "code",
   "execution_count": 47,
   "id": "0cc74df4",
   "metadata": {},
   "outputs": [
    {
     "name": "stderr",
     "output_type": "stream",
     "text": [
      "/home/noah-art3mis/projects/takehome-lablivre-analysis/.venv/lib/python3.10/site-packages/seaborn/categorical.py:3399: UserWarning: 14.3% of the points cannot be placed; you may want to decrease the size of the markers or use stripplot.\n",
      "  warnings.warn(msg, UserWarning)\n"
     ]
    },
    {
     "data": {
      "image/png": "[encoded data removed]",
      "text/plain": [
       "<Figure size 1000x300 with 1 Axes>"
      ]
     },
     "metadata": {},
     "output_type": "display_data"
    }
   ],
   "source": [
    "plt.figure(figsize=(10, 3))\n",
    "sns.swarmplot(data=df, x=\"populacaoBeneficiada\", size=8, color=palette[1])\n",
    "plt.title(\"População Beneficiada\")\n",
    "plt.xlabel(\"População Beneficiada\")\n",
    "plt.ylabel(\"Projetos\")\n",
    "plt.show()"
   ]
  },
  {
   "cell_type": "code",
   "execution_count": 48,
   "id": "0cc74df4",
   "metadata": {},
   "outputs": [
    {
     "data": {
      "image/png": "[encoded data removed]",
      "text/plain": [
       "<Figure size 1000x300 with 1 Axes>"
      ]
     },
     "metadata": {},
     "output_type": "display_data"
    }
   ],
   "source": [
    "# distribuição melhor visualizada com escala logaritmica\n",
    "plt.figure(figsize=(10, 3))\n",
    "sns.swarmplot(\n",
    "    data=df, x=\"populacaoBeneficiada\", size=8, color=palette[1], log_scale=True\n",
    ")\n",
    "plt.title(\"População Beneficiada (escala logarítmica)\")\n",
    "plt.xlabel(\"População Beneficiada (log)\")\n",
    "plt.ylabel(\"Projetos\")\n",
    "plt.show()"
   ]
  },
  {
   "cell_type": "code",
   "execution_count": 49,
   "id": "32c91161",
   "metadata": {},
   "outputs": [
    {
     "data": {
      "text/html": [
       "<div>\n",
       "<style scoped>\n",
       "    .dataframe tbody tr th:only-of-type {\n",
       "        vertical-align: middle;\n",
       "    }\n",
       "\n",
       "    .dataframe tbody tr th {\n",
       "        vertical-align: top;\n",
       "    }\n",
       "\n",
       "    .dataframe thead th {\n",
       "        text-align: right;\n",
       "    }\n",
       "</style>\n",
       "<table border=\"1\" class=\"dataframe\">\n",
       "  <thead>\n",
       "    <tr style=\"text-align: right;\">\n",
       "      <th></th>\n",
       "      <th>idUnico</th>\n",
       "      <th>nome</th>\n",
       "      <th>populacaoBeneficiada</th>\n",
       "    </tr>\n",
       "  </thead>\n",
       "  <tbody>\n",
       "    <tr>\n",
       "      <th>78</th>\n",
       "      <td>10834.53-24</td>\n",
       "      <td>CONSTRUÇÃO DO NOVO IML DA PCDF</td>\n",
       "      <td>4291577.0</td>\n",
       "    </tr>\n",
       "    <tr>\n",
       "      <th>596</th>\n",
       "      <td>10798.53-55</td>\n",
       "      <td>Construção das Novas Instalações do Centro de ...</td>\n",
       "      <td>3000000.0</td>\n",
       "    </tr>\n",
       "    <tr>\n",
       "      <th>456</th>\n",
       "      <td>50954.53-97</td>\n",
       "      <td>Construção do Museu da Imagem e do Som, em Bra...</td>\n",
       "      <td>2817381.0</td>\n",
       "    </tr>\n",
       "    <tr>\n",
       "      <th>349</th>\n",
       "      <td>31923.53-48</td>\n",
       "      <td>Reforma de Quadras Poliesportivas</td>\n",
       "      <td>2800000.0</td>\n",
       "    </tr>\n",
       "  </tbody>\n",
       "</table>\n",
       "</div>"
      ],
      "text/plain": [
       "         idUnico                                               nome  \\\n",
       "78   10834.53-24                     CONSTRUÇÃO DO NOVO IML DA PCDF   \n",
       "596  10798.53-55  Construção das Novas Instalações do Centro de ...   \n",
       "456  50954.53-97  Construção do Museu da Imagem e do Som, em Bra...   \n",
       "349  31923.53-48                  Reforma de Quadras Poliesportivas   \n",
       "\n",
       "     populacaoBeneficiada  \n",
       "78              4291577.0  \n",
       "596             3000000.0  \n",
       "456             2817381.0  \n",
       "349             2800000.0  "
      ]
     },
     "execution_count": 49,
     "metadata": {},
     "output_type": "execute_result"
    }
   ],
   "source": [
    "# Outliers de população beneficiada\n",
    "df[[\"idUnico\", \"nome\", \"populacaoBeneficiada\"]].sort_values(\n",
    "    by=\"populacaoBeneficiada\", ascending=False\n",
    ").head(4)"
   ]
  },
  {
   "cell_type": "markdown",
   "id": "32c91161",
   "metadata": {},
   "source": [
    "##### Investimento\n"
   ]
  },
  {
   "cell_type": "code",
   "execution_count": 50,
   "id": "6b471ce2",
   "metadata": {},
   "outputs": [
    {
     "data": {
      "image/png": "[encoded data removed]",
      "text/plain": [
       "<Figure size 1000x400 with 2 Axes>"
      ]
     },
     "metadata": {},
     "output_type": "display_data"
    }
   ],
   "source": [
    "# Plot normal scale\n",
    "plt.figure(figsize=(10, 4))\n",
    "plt.subplot(1, 2, 1)\n",
    "sns.histplot(\n",
    "    data=df[~df[\"isInvestimentoSimbolico\"]],\n",
    "    x=\"investimentoTotal\",\n",
    "    bins=25,\n",
    "    color=palette[0],\n",
    ")\n",
    "plt.xlabel(\"Faixa de Investimento (R$)\")\n",
    "plt.ylabel(\"Projetos\")\n",
    "plt.title(\"Projetos por Investimento\")\n",
    "\n",
    "# Plot log scale\n",
    "plt.subplot(1, 2, 2)\n",
    "sns.histplot(\n",
    "    data=df[~df[\"isInvestimentoSimbolico\"]],\n",
    "    x=\"investimentoTotal\",\n",
    "    bins=25,\n",
    "    color=palette[0],\n",
    "    log_scale=True,\n",
    ")\n",
    "plt.xlabel(\"Faixa de Investimento (R$)\")\n",
    "plt.ylabel(\"Projetos\")\n",
    "plt.title(\"Projetos por Investimento (escala logarítmica)\")\n",
    "\n",
    "plt.tight_layout()\n",
    "plt.show()"
   ]
  },
  {
   "cell_type": "code",
   "execution_count": 51,
   "id": "bfa6226d",
   "metadata": {},
   "outputs": [
    {
     "data": {
      "text/plain": [
       "count            571.00\n",
       "mean      13,871,387.02\n",
       "std       51,931,177.66\n",
       "min            4,684.45\n",
       "25%          667,980.23\n",
       "50%        2,085,189.23\n",
       "75%        8,402,637.63\n",
       "max      839,664,954.32\n",
       "Name: investimentoTotal, dtype: object"
      ]
     },
     "execution_count": 51,
     "metadata": {},
     "output_type": "execute_result"
    }
   ],
   "source": [
    "df[~df[\"isInvestimentoSimbolico\"]][\"investimentoTotal\"].describe().apply(\n",
    "    lambda x: f\"{x:,.2f}\"\n",
    ")"
   ]
  },
  {
   "cell_type": "code",
   "execution_count": 52,
   "id": "b99c2597",
   "metadata": {},
   "outputs": [
    {
     "name": "stdout",
     "output_type": "stream",
     "text": [
      "IQR: R$ 7,734,657.40\n"
     ]
    }
   ],
   "source": [
    "def calculate_iqr(data: pd.Series) -> float:\n",
    "    q75 = data.quantile(0.75)\n",
    "    q25 = data.quantile(0.25)\n",
    "    return q75 - q25\n",
    "\n",
    "\n",
    "valores = df[~df[\"isInvestimentoSimbolico\"]][\"investimentoTotal\"]\n",
    "iqr = calculate_iqr(valores)\n",
    "print(f\"IQR: R$ {iqr:,.2f}\")"
   ]
  },
  {
   "cell_type": "markdown",
   "id": "ba652ada",
   "metadata": {},
   "source": [
    "Após selecionar apenas of projetos com investimentos significativos, vemos uma distribuição aproximadamente log-normal (comum com este tipo de dado não-negativo, como dinheiro). Isso significa que grandes investimento são exponencialmente mais raros que os casos de investimento menor.\n",
    "\n",
    "Isso também significa que a média é pouco informativa sobre os dados; podemos usar mediana e IQR para ter uma ideia melhor\n",
    "\n",
    "Ela apresenta, aproximadamente:\n",
    "\n",
    "-   Variação entre 4 mil e 800 milhões\n",
    "-   Mediana (valor que divide os dados ao meio): 2 milhões\n",
    "-   IQR (amplitude interquartil): 8 milhões\n",
    "-   Cerca de 50% dos projetos entre 1 e 8 milhões.\n",
    "\n",
    "Assim, isso também indica que os valores mais altos não são outliers, mas são parte da distribuição log-normal.\n"
   ]
  },
  {
   "cell_type": "code",
   "execution_count": 53,
   "id": "aac8d4ee",
   "metadata": {},
   "outputs": [
    {
     "data": {
      "text/html": [
       "<div>\n",
       "<style scoped>\n",
       "    .dataframe tbody tr th:only-of-type {\n",
       "        vertical-align: middle;\n",
       "    }\n",
       "\n",
       "    .dataframe tbody tr th {\n",
       "        vertical-align: top;\n",
       "    }\n",
       "\n",
       "    .dataframe thead th {\n",
       "        text-align: right;\n",
       "    }\n",
       "</style>\n",
       "<table border=\"1\" class=\"dataframe\">\n",
       "  <thead>\n",
       "    <tr style=\"text-align: right;\">\n",
       "      <th></th>\n",
       "      <th>descricao</th>\n",
       "      <th>investimentoTotal</th>\n",
       "    </tr>\n",
       "  </thead>\n",
       "  <tbody>\n",
       "    <tr>\n",
       "      <th>117</th>\n",
       "      <td>Projeto Estratégico do SISFRON, cujo objeto é ...</td>\n",
       "      <td>8.396650e+08</td>\n",
       "    </tr>\n",
       "    <tr>\n",
       "      <th>532</th>\n",
       "      <td>CONSTRUCAO DE CONTORNO RODOVIARIO - NO MUNICIP...</td>\n",
       "      <td>5.961359e+08</td>\n",
       "    </tr>\n",
       "    <tr>\n",
       "      <th>549</th>\n",
       "      <td>ADEQUACAO DE TRECHO RODOVIARIO - ENTRONCAMENTO...</td>\n",
       "      <td>3.591301e+08</td>\n",
       "    </tr>\n",
       "    <tr>\n",
       "      <th>516</th>\n",
       "      <td>execução das obras de adequação de capacidade,...</td>\n",
       "      <td>3.529946e+08</td>\n",
       "    </tr>\n",
       "    <tr>\n",
       "      <th>13</th>\n",
       "      <td>Contratação de empresa para prestação de servi...</td>\n",
       "      <td>2.014046e+08</td>\n",
       "    </tr>\n",
       "    <tr>\n",
       "      <th>172</th>\n",
       "      <td>contratação de empresa para a prestação de ser...</td>\n",
       "      <td>1.934674e+08</td>\n",
       "    </tr>\n",
       "    <tr>\n",
       "      <th>452</th>\n",
       "      <td>Contratação de empresa para prestação de servi...</td>\n",
       "      <td>1.196893e+08</td>\n",
       "    </tr>\n",
       "    <tr>\n",
       "      <th>268</th>\n",
       "      <td>(TED nº 03/2017) - Instalação de Estações Mete...</td>\n",
       "      <td>1.186510e+08</td>\n",
       "    </tr>\n",
       "    <tr>\n",
       "      <th>415</th>\n",
       "      <td>Contratação de serviços técnicos especializado...</td>\n",
       "      <td>1.129367e+08</td>\n",
       "    </tr>\n",
       "    <tr>\n",
       "      <th>341</th>\n",
       "      <td>Execução de Serviços do Programa CREMA - Recup...</td>\n",
       "      <td>1.123280e+08</td>\n",
       "    </tr>\n",
       "  </tbody>\n",
       "</table>\n",
       "</div>"
      ],
      "text/plain": [
       "                                             descricao  investimentoTotal\n",
       "117  Projeto Estratégico do SISFRON, cujo objeto é ...       8.396650e+08\n",
       "532  CONSTRUCAO DE CONTORNO RODOVIARIO - NO MUNICIP...       5.961359e+08\n",
       "549  ADEQUACAO DE TRECHO RODOVIARIO - ENTRONCAMENTO...       3.591301e+08\n",
       "516  execução das obras de adequação de capacidade,...       3.529946e+08\n",
       "13   Contratação de empresa para prestação de servi...       2.014046e+08\n",
       "172  contratação de empresa para a prestação de ser...       1.934674e+08\n",
       "452  Contratação de empresa para prestação de servi...       1.196893e+08\n",
       "268  (TED nº 03/2017) - Instalação de Estações Mete...       1.186510e+08\n",
       "415  Contratação de serviços técnicos especializado...       1.129367e+08\n",
       "341  Execução de Serviços do Programa CREMA - Recup...       1.123280e+08"
      ]
     },
     "execution_count": 53,
     "metadata": {},
     "output_type": "execute_result"
    }
   ],
   "source": [
    "# valores altos\n",
    "df[[\"descricao\", \"investimentoTotal\"]].sort_values(\n",
    "    by=\"investimentoTotal\", ascending=False\n",
    ").head(10)"
   ]
  },
  {
   "cell_type": "markdown",
   "id": "05b3b16c",
   "metadata": {},
   "source": [
    "Várias creches parecem receber investimentos com valor simbólico.\n",
    "\n",
    "Valores mais altos de investimento incluem:\n",
    "\n",
    "-   SISFRON (Sistema Integrado de Monitoramento de Fronteiras): R$ 840 milhões\n",
    "-   Obras rodoviárias R$ 596, R$ 359, R$ 353 milhões\n",
    "-   Asessoramentos diversos: 193, 119, 112 milhões\n",
    "-   Instalação de Estações Metereológicas: 118 milhões\n",
    "\n",
    "Como só há 5% de não-nulos nas outras categorias quantitativas, opto por não calcular correlação e etc.\n"
   ]
  },
  {
   "cell_type": "code",
   "execution_count": 54,
   "id": "aac8d4ee",
   "metadata": {},
   "outputs": [
    {
     "data": {
      "text/html": [
       "<div>\n",
       "<style scoped>\n",
       "    .dataframe tbody tr th:only-of-type {\n",
       "        vertical-align: middle;\n",
       "    }\n",
       "\n",
       "    .dataframe tbody tr th {\n",
       "        vertical-align: top;\n",
       "    }\n",
       "\n",
       "    .dataframe thead th {\n",
       "        text-align: right;\n",
       "    }\n",
       "</style>\n",
       "<table border=\"1\" class=\"dataframe\">\n",
       "  <thead>\n",
       "    <tr style=\"text-align: right;\">\n",
       "      <th></th>\n",
       "      <th>nome</th>\n",
       "      <th>investimentoTotal</th>\n",
       "    </tr>\n",
       "  </thead>\n",
       "  <tbody>\n",
       "    <tr>\n",
       "      <th>67</th>\n",
       "      <td>contratação de empresa especializada em engenh...</td>\n",
       "      <td>0.00</td>\n",
       "    </tr>\n",
       "    <tr>\n",
       "      <th>372</th>\n",
       "      <td>Construção, Reforma e Ampliação dos Prédios da...</td>\n",
       "      <td>0.00</td>\n",
       "    </tr>\n",
       "    <tr>\n",
       "      <th>232</th>\n",
       "      <td>OBRA DE REFORMA DO ACESSO PRINCIPAL DA FACULDA...</td>\n",
       "      <td>0.00</td>\n",
       "    </tr>\n",
       "    <tr>\n",
       "      <th>491</th>\n",
       "      <td>PAC 2 - CRECHE/PRÉ-ESCOLA 066</td>\n",
       "      <td>0.01</td>\n",
       "    </tr>\n",
       "    <tr>\n",
       "      <th>492</th>\n",
       "      <td>PAC 2 - CRECHE/PRÉ-ESCOLA 067</td>\n",
       "      <td>0.01</td>\n",
       "    </tr>\n",
       "  </tbody>\n",
       "</table>\n",
       "</div>"
      ],
      "text/plain": [
       "                                                  nome  investimentoTotal\n",
       "67   contratação de empresa especializada em engenh...               0.00\n",
       "372  Construção, Reforma e Ampliação dos Prédios da...               0.00\n",
       "232  OBRA DE REFORMA DO ACESSO PRINCIPAL DA FACULDA...               0.00\n",
       "491                      PAC 2 - CRECHE/PRÉ-ESCOLA 066               0.01\n",
       "492                      PAC 2 - CRECHE/PRÉ-ESCOLA 067               0.01"
      ]
     },
     "execution_count": 54,
     "metadata": {},
     "output_type": "execute_result"
    }
   ],
   "source": [
    "# valores baixos simbólicos\n",
    "df[[\"nome\", \"investimentoTotal\"]].sort_values(\n",
    "    by=\"investimentoTotal\", ascending=True\n",
    ").head()"
   ]
  },
  {
   "cell_type": "code",
   "execution_count": 55,
   "id": "b3e6518f",
   "metadata": {},
   "outputs": [
    {
     "data": {
      "text/html": [
       "<div>\n",
       "<style scoped>\n",
       "    .dataframe tbody tr th:only-of-type {\n",
       "        vertical-align: middle;\n",
       "    }\n",
       "\n",
       "    .dataframe tbody tr th {\n",
       "        vertical-align: top;\n",
       "    }\n",
       "\n",
       "    .dataframe thead th {\n",
       "        text-align: right;\n",
       "    }\n",
       "</style>\n",
       "<table border=\"1\" class=\"dataframe\">\n",
       "  <thead>\n",
       "    <tr style=\"text-align: right;\">\n",
       "      <th></th>\n",
       "      <th>nome</th>\n",
       "      <th>investimentoTotal</th>\n",
       "    </tr>\n",
       "  </thead>\n",
       "  <tbody>\n",
       "    <tr>\n",
       "      <th>374</th>\n",
       "      <td>Projetos e estudos técnicos para obras 16º BPM...</td>\n",
       "      <td>4684.45</td>\n",
       "    </tr>\n",
       "    <tr>\n",
       "      <th>392</th>\n",
       "      <td>Projeto de monitoramento eletrônico e alarmes ...</td>\n",
       "      <td>7500.00</td>\n",
       "    </tr>\n",
       "    <tr>\n",
       "      <th>49</th>\n",
       "      <td>contratação de empresa especializada para elab...</td>\n",
       "      <td>8000.00</td>\n",
       "    </tr>\n",
       "    <tr>\n",
       "      <th>342</th>\n",
       "      <td>CORPO DE BOMBEIROS MILITAR DO DISTRITO FEDERAL</td>\n",
       "      <td>10000.00</td>\n",
       "    </tr>\n",
       "    <tr>\n",
       "      <th>24</th>\n",
       "      <td>Contratação de empresa especializada em desenv...</td>\n",
       "      <td>12500.00</td>\n",
       "    </tr>\n",
       "  </tbody>\n",
       "</table>\n",
       "</div>"
      ],
      "text/plain": [
       "                                                  nome  investimentoTotal\n",
       "374  Projetos e estudos técnicos para obras 16º BPM...            4684.45\n",
       "392  Projeto de monitoramento eletrônico e alarmes ...            7500.00\n",
       "49   contratação de empresa especializada para elab...            8000.00\n",
       "342     CORPO DE BOMBEIROS MILITAR DO DISTRITO FEDERAL           10000.00\n",
       "24   Contratação de empresa especializada em desenv...           12500.00"
      ]
     },
     "execution_count": 55,
     "metadata": {},
     "output_type": "execute_result"
    }
   ],
   "source": [
    "# valores baixos não-simbólicos\n",
    "df[~df[\"isInvestimentoSimbolico\"]][[\"nome\", \"investimentoTotal\"]].sort_values(\n",
    "    by=\"investimentoTotal\", ascending=True\n",
    ").head()"
   ]
  },
  {
   "cell_type": "markdown",
   "id": "0df991b9",
   "metadata": {},
   "source": [
    "### Datas\n"
   ]
  },
  {
   "cell_type": "code",
   "execution_count": 56,
   "id": "1170e016",
   "metadata": {},
   "outputs": [
    {
     "name": "stdout",
     "output_type": "stream",
     "text": [
      "<class 'pandas.core.frame.DataFrame'>\n",
      "RangeIndex: 690 entries, 0 to 689\n",
      "Data columns (total 6 columns):\n",
      " #   Column               Non-Null Count  Dtype         \n",
      "---  ------               --------------  -----         \n",
      " 0   dataInicialPrevista  688 non-null    datetime64[ns]\n",
      " 1   dataFinalPrevista    688 non-null    datetime64[ns]\n",
      " 2   dataInicialEfetiva   21 non-null     datetime64[ns]\n",
      " 3   dataFinalEfetiva     5 non-null      datetime64[ns]\n",
      " 4   dataCadastro         690 non-null    datetime64[ns]\n",
      " 5   dataSituacao         690 non-null    datetime64[ns]\n",
      "dtypes: datetime64[ns](6)\n",
      "memory usage: 32.5 KB\n"
     ]
    }
   ],
   "source": [
    "date_cols = [\n",
    "    \"dataInicialPrevista\",\n",
    "    \"dataFinalPrevista\",\n",
    "    \"dataInicialEfetiva\",\n",
    "    \"dataFinalEfetiva\",\n",
    "    \"dataCadastro\",\n",
    "    \"dataSituacao\",\n",
    "]\n",
    "\n",
    "df[date_cols].info()"
   ]
  },
  {
   "cell_type": "code",
   "execution_count": 57,
   "id": "a7d1947f",
   "metadata": {},
   "outputs": [
    {
     "data": {
      "image/png": "[encoded data removed]",
      "text/plain": [
       "<Figure size 1500x500 with 3 Axes>"
      ]
     },
     "metadata": {},
     "output_type": "display_data"
    }
   ],
   "source": [
    "# Plot normal scale\n",
    "plt.figure(figsize=(15, 5))\n",
    "plt.subplot(1, 3, 1)\n",
    "sns.histplot(\n",
    "    data=df[\"duracaoPrevista\"].value_counts().reset_index(),\n",
    "    bins=50,\n",
    "    color=palette[0],\n",
    ")\n",
    "plt.xlabel(\"Duração Prevista (dias)\")\n",
    "plt.ylabel(\"Projetos\")\n",
    "plt.title(\"Projetos por Duração Prevista\")\n",
    "\n",
    "# Plot log scale\n",
    "plt.subplot(1, 3, 2)\n",
    "sns.histplot(\n",
    "    data=df[\"duracaoPrevista\"].value_counts().reset_index(),\n",
    "    bins=50,\n",
    "    color=palette[0],\n",
    "    log_scale=True,\n",
    ")\n",
    "plt.xlabel(\"Duração Prevista (dias)\")\n",
    "plt.ylabel(\"Projetos\")\n",
    "plt.title(\"Projetos por Duração Prevista (escala logarítmica)\")\n",
    "\n",
    "# Plot log-log scale\n",
    "plt.subplot(1, 3, 3)\n",
    "sns.scatterplot(\n",
    "    data=df[\"duracaoPrevista\"].value_counts().reset_index(), alpha=0.5, color=palette[0]\n",
    ")\n",
    "plt.yscale(\"log\")\n",
    "plt.xscale(\"log\")\n",
    "plt.xlabel(\"Duração Prevista (dias)\")\n",
    "plt.ylabel(\"Número de Projetos\")\n",
    "plt.title(\"Projetos por Duração Prevista (escala log-log)\")\n",
    "\n",
    "plt.tight_layout()\n",
    "plt.show()"
   ]
  },
  {
   "cell_type": "code",
   "execution_count": 58,
   "id": "62da087f",
   "metadata": {},
   "outputs": [
    {
     "name": "stdout",
     "output_type": "stream",
     "text": [
      "730.0 days (2.00 years): 33 projects\n",
      "365.0 days (1.00 years): 27 projects\n",
      "1461.0 days (4.00 years): 24 projects\n",
      "330.0 days (0.90 years): 20 projects\n",
      "400.0 days (1.10 years): 19 projects\n"
     ]
    }
   ],
   "source": [
    "duration_counts = df[\"duracaoPrevista\"].dt.days.value_counts().head(5)\n",
    "for days, count in duration_counts.items():\n",
    "    print(f\"{days} days ({days/365:.2f} years): {count} projects\")"
   ]
  },
  {
   "cell_type": "code",
   "execution_count": 59,
   "id": "4a576691",
   "metadata": {},
   "outputs": [
    {
     "data": {
      "text/plain": [
       "count    688.00\n",
       "mean       2.06\n",
       "std        1.89\n",
       "min        0.00\n",
       "25%        0.80\n",
       "50%        1.28\n",
       "75%        2.99\n",
       "max       13.22\n",
       "Name: duracaoPrevista, dtype: object"
      ]
     },
     "execution_count": 59,
     "metadata": {},
     "output_type": "execute_result"
    }
   ],
   "source": [
    "df[\"duracaoPrevista\"].dt.days.divide(365).describe().apply(lambda x: f\"{x:,.2f}\")"
   ]
  },
  {
   "cell_type": "code",
   "execution_count": 60,
   "id": "b4a23bc8",
   "metadata": {},
   "outputs": [
    {
     "name": "stdout",
     "output_type": "stream",
     "text": [
      "IQR: 2.187671232876712\n"
     ]
    }
   ],
   "source": [
    "print(\"IQR:\", calculate_iqr(df[\"duracaoPrevista\"].dt.days.divide(365)))"
   ]
  },
  {
   "cell_type": "markdown",
   "id": "47671043",
   "metadata": {},
   "source": [
    "Nesse caso, parece ser uma distribuição power-law (observada como linha aproximadamente reta no gráfico log-log). Isso significa que (ainda mais do que os investimentos) a grande maioria dos projetos possui duração curta, e alguns duração extremamente longa.\n",
    "\n",
    "Assim, é difícil dizer que haja um caso que caia 'fora da curva', pois não há um caso padrão como haveria numa distribuição normal.\n",
    "\n",
    "Dito disso, não é incomum que projetos sejam declarados com duração exata de 1, 2, 3, 4, ou 5 anos, conforme indicado na aparente 'quantização' dos valores. Há alguns projetos declarados com duração de 364 dias em vez de 365\n",
    "\n",
    "-   valor mínimo de 0 dias\n",
    "-   valor máximo de 13 anos\n",
    "-   mediana: 1.2 anos\n",
    "-   IQR de 2.18 anos\n"
   ]
  },
  {
   "cell_type": "code",
   "execution_count": 61,
   "id": "7c08366a",
   "metadata": {},
   "outputs": [
    {
     "data": {
      "text/html": [
       "<div>\n",
       "<style scoped>\n",
       "    .dataframe tbody tr th:only-of-type {\n",
       "        vertical-align: middle;\n",
       "    }\n",
       "\n",
       "    .dataframe tbody tr th {\n",
       "        vertical-align: top;\n",
       "    }\n",
       "\n",
       "    .dataframe thead th {\n",
       "        text-align: right;\n",
       "    }\n",
       "</style>\n",
       "<table border=\"1\" class=\"dataframe\">\n",
       "  <thead>\n",
       "    <tr style=\"text-align: right;\">\n",
       "      <th></th>\n",
       "      <th>descricao</th>\n",
       "      <th>duracaoPrevista</th>\n",
       "      <th>investimentoFaixa</th>\n",
       "    </tr>\n",
       "  </thead>\n",
       "  <tbody>\n",
       "    <tr>\n",
       "      <th>497</th>\n",
       "      <td>ADEQUACAO DE TRECHO RODOVIARIO - BRASILIA - DI...</td>\n",
       "      <td>4827 days</td>\n",
       "      <td>10M-100M</td>\n",
       "    </tr>\n",
       "    <tr>\n",
       "      <th>633</th>\n",
       "      <td>SERVIÇO DE CONSULTORIA PARA PESQUISA DE VERIFI...</td>\n",
       "      <td>4371 days</td>\n",
       "      <td>10M-100M</td>\n",
       "    </tr>\n",
       "    <tr>\n",
       "      <th>538</th>\n",
       "      <td>Adequação De Trecho Rodoviário - Entrocamento ...</td>\n",
       "      <td>4197 days</td>\n",
       "      <td>100M-1B</td>\n",
       "    </tr>\n",
       "    <tr>\n",
       "      <th>532</th>\n",
       "      <td>CONSTRUCAO DE CONTORNO RODOVIARIO - NO MUNICIP...</td>\n",
       "      <td>3974 days</td>\n",
       "      <td>100M-1B</td>\n",
       "    </tr>\n",
       "    <tr>\n",
       "      <th>357</th>\n",
       "      <td>Contratos de prestação de serviços de engenhar...</td>\n",
       "      <td>3286 days</td>\n",
       "      <td>10M-100M</td>\n",
       "    </tr>\n",
       "  </tbody>\n",
       "</table>\n",
       "</div>"
      ],
      "text/plain": [
       "                                             descricao duracaoPrevista  \\\n",
       "497  ADEQUACAO DE TRECHO RODOVIARIO - BRASILIA - DI...       4827 days   \n",
       "633  SERVIÇO DE CONSULTORIA PARA PESQUISA DE VERIFI...       4371 days   \n",
       "538  Adequação De Trecho Rodoviário - Entrocamento ...       4197 days   \n",
       "532  CONSTRUCAO DE CONTORNO RODOVIARIO - NO MUNICIP...       3974 days   \n",
       "357  Contratos de prestação de serviços de engenhar...       3286 days   \n",
       "\n",
       "    investimentoFaixa  \n",
       "497          10M-100M  \n",
       "633          10M-100M  \n",
       "538           100M-1B  \n",
       "532           100M-1B  \n",
       "357          10M-100M  "
      ]
     },
     "execution_count": 61,
     "metadata": {},
     "output_type": "execute_result"
    }
   ],
   "source": [
    "# valores altos\n",
    "df[[\"descricao\", \"duracaoPrevista\", \"investimentoFaixa\"]].sort_values(\n",
    "    by=\"duracaoPrevista\", ascending=False\n",
    ").head()"
   ]
  },
  {
   "cell_type": "code",
   "execution_count": 62,
   "id": "7a91338c",
   "metadata": {},
   "outputs": [
    {
     "data": {
      "text/html": [
       "<div>\n",
       "<style scoped>\n",
       "    .dataframe tbody tr th:only-of-type {\n",
       "        vertical-align: middle;\n",
       "    }\n",
       "\n",
       "    .dataframe tbody tr th {\n",
       "        vertical-align: top;\n",
       "    }\n",
       "\n",
       "    .dataframe thead th {\n",
       "        text-align: right;\n",
       "    }\n",
       "</style>\n",
       "<table border=\"1\" class=\"dataframe\">\n",
       "  <thead>\n",
       "    <tr style=\"text-align: right;\">\n",
       "      <th></th>\n",
       "      <th>descricao</th>\n",
       "      <th>duracaoPrevista</th>\n",
       "      <th>investimentoFaixa</th>\n",
       "    </tr>\n",
       "  </thead>\n",
       "  <tbody>\n",
       "    <tr>\n",
       "      <th>304</th>\n",
       "      <td>CONSTRUÇÃO DE UNIDADE DE ATENÇÃO ESPECIALIZADA...</td>\n",
       "      <td>0 days</td>\n",
       "      <td>1M-10M</td>\n",
       "    </tr>\n",
       "    <tr>\n",
       "      <th>326</th>\n",
       "      <td>CONSTRUÇÃO DE UNIDADE DE ATENÇÃO ESPECIALIZADA...</td>\n",
       "      <td>0 days</td>\n",
       "      <td>1M-10M</td>\n",
       "    </tr>\n",
       "    <tr>\n",
       "      <th>331</th>\n",
       "      <td>CONSTRUÇÃO DE UNIDADE BÁSICA DE SAÚDE</td>\n",
       "      <td>0 days</td>\n",
       "      <td>1M-10M</td>\n",
       "    </tr>\n",
       "    <tr>\n",
       "      <th>9</th>\n",
       "      <td>Obra no Batalhão Escola e Pronto Emprego para ...</td>\n",
       "      <td>0 days</td>\n",
       "      <td>10M-100M</td>\n",
       "    </tr>\n",
       "    <tr>\n",
       "      <th>287</th>\n",
       "      <td>CONSTRUÇÃO DE UNIDADE DE ATENÇÃO ESPECIALIZADA...</td>\n",
       "      <td>1 days</td>\n",
       "      <td>1M-10M</td>\n",
       "    </tr>\n",
       "  </tbody>\n",
       "</table>\n",
       "</div>"
      ],
      "text/plain": [
       "                                             descricao duracaoPrevista  \\\n",
       "304  CONSTRUÇÃO DE UNIDADE DE ATENÇÃO ESPECIALIZADA...          0 days   \n",
       "326  CONSTRUÇÃO DE UNIDADE DE ATENÇÃO ESPECIALIZADA...          0 days   \n",
       "331              CONSTRUÇÃO DE UNIDADE BÁSICA DE SAÚDE          0 days   \n",
       "9    Obra no Batalhão Escola e Pronto Emprego para ...          0 days   \n",
       "287  CONSTRUÇÃO DE UNIDADE DE ATENÇÃO ESPECIALIZADA...          1 days   \n",
       "\n",
       "    investimentoFaixa  \n",
       "304            1M-10M  \n",
       "326            1M-10M  \n",
       "331            1M-10M  \n",
       "9            10M-100M  \n",
       "287            1M-10M  "
      ]
     },
     "execution_count": 62,
     "metadata": {},
     "output_type": "execute_result"
    }
   ],
   "source": [
    "# valores baixos\n",
    "df[[\"descricao\", \"duracaoPrevista\", \"investimentoFaixa\"]].sort_values(\n",
    "    by=\"duracaoPrevista\", ascending=True\n",
    ").head()"
   ]
  },
  {
   "cell_type": "markdown",
   "id": "113a856b",
   "metadata": {},
   "source": [
    "anomalias: projetos com investimento entre 1 e 10 milhões com duração prevista de zero dias."
   ]
  },
  {
   "cell_type": "code",
   "execution_count": 63,
   "id": "8bee3bfe",
   "metadata": {},
   "outputs": [
    {
     "name": "stdout",
     "output_type": "stream",
     "text": [
      "Number of projects with start date in the future: 4\n"
     ]
    }
   ],
   "source": [
    "# Check if dataInicialPrevista is in the future\n",
    "future_starts = df[df['dataInicialPrevista'] > pd.Timestamp.now()]\n",
    "print(f\"Number of projects with start date in the future: {len(future_starts)}\")"
   ]
  },
  {
   "cell_type": "markdown",
   "id": "11d598c5",
   "metadata": {},
   "source": [
    "Devido à falta de dados para as datas reais, podemos comparar apenas as datas previstas.\n",
    "\n",
    "Apesar de apenas 81 (11%) projetos estarem em situação 'em execução', apenas 4 projetos possuem início no futuro -- com a maioria em situação de 'cadastrado'. A documentação dos dados não entra em detalhes sobre o significado destas categorias."
   ]
  },
  {
   "cell_type": "code",
   "execution_count": 71,
   "id": "f933965d",
   "metadata": {},
   "outputs": [
    {
     "data": {
      "image/png": "[encoded data removed]",
      "text/plain": [
       "<Figure size 1000x600 with 1 Axes>"
      ]
     },
     "metadata": {},
     "output_type": "display_data"
    }
   ],
   "source": [
    "# Create histogram of dataInicialPrevista\n",
    "plt.figure(figsize=(10, 6))\n",
    "plt.hist(df['dataInicialPrevista'].dropna(), bins=50)\n",
    "plt.title('Distribuição das Datas Iniciais Previstas')\n",
    "plt.xlabel('Data Inicial Prevista') \n",
    "plt.ylabel('Frequência')\n",
    "plt.xticks(rotation=45)\n",
    "plt.show()\n"
   ]
  },
  {
   "cell_type": "code",
   "execution_count": 72,
   "id": "25bb11e1",
   "metadata": {},
   "outputs": [
    {
     "data": {
      "image/png": "[encoded data removed]",
      "text/plain": [
       "<Figure size 1000x600 with 1 Axes>"
      ]
     },
     "metadata": {},
     "output_type": "display_data"
    }
   ],
   "source": [
    "plt.figure(figsize=(10, 6))\n",
    "plt.hist(df['dataFinalPrevista'].dropna(), bins=50)\n",
    "plt.title('Distribuição das Datas Finais Previstas')\n",
    "plt.xlabel('Data Final Prevista') \n",
    "plt.ylabel('Frequência')\n",
    "plt.xticks(rotation=45)\n",
    "plt.show()\n"
   ]
  },
  {
   "cell_type": "code",
   "execution_count": 66,
   "id": "21ebaa66",
   "metadata": {},
   "outputs": [
    {
     "data": {
      "image/png": "[encoded data removed]",
      "text/plain": [
       "<Figure size 1000x600 with 1 Axes>"
      ]
     },
     "metadata": {},
     "output_type": "display_data"
    }
   ],
   "source": [
    "# Create scatter plot of dataInicialPrevista vs investimento\n",
    "plt.figure(figsize=(10, 6))\n",
    "sns.scatterplot(\n",
    "    data=df[~df[\"isInvestimentoSimbolico\"]], \n",
    "    x=\"dataInicialPrevista\",\n",
    "    y=\"investimentoTotal\",\n",
    "    alpha=0.5\n",
    ")\n",
    "plt.title(\"Data Inicial Prevista vs Investimento Total\")\n",
    "plt.xlabel(\"Data Inicial Prevista\")\n",
    "plt.ylabel(\"Investimento Total (R$)\")\n",
    "plt.xticks(rotation=45)\n",
    "plt.show()"
   ]
  },
  {
   "cell_type": "code",
   "execution_count": 67,
   "id": "97b4f61d",
   "metadata": {},
   "outputs": [],
   "source": [
    "# check big and small date values"
   ]
  },
  {
   "cell_type": "code",
   "execution_count": 68,
   "id": "2eededda",
   "metadata": {},
   "outputs": [],
   "source": [
    "# time series plot"
   ]
  },
  {
   "cell_type": "code",
   "execution_count": 69,
   "id": "3c92dd0f",
   "metadata": {},
   "outputs": [
    {
     "data": {
      "image/png": "[encoded data removed]",
      "text/plain": [
       "<Figure size 1000x600 with 1 Axes>"
      ]
     },
     "metadata": {},
     "output_type": "display_data"
    },
    {
     "name": "stdout",
     "output_type": "stream",
     "text": [
      "\n",
      "Coeficiente de correlação: 0.03\n"
     ]
    }
   ],
   "source": [
    "# Correlação entre duração prevista e investimento total\n",
    "plt.figure(figsize=(10, 6))\n",
    "sns.scatterplot(\n",
    "    data=df[~df[\"isInvestimentoSimbolico\"]],\n",
    "    x=\"duracaoPrevista\",\n",
    "    y=\"investimentoTotal\",\n",
    "    alpha=0.5,\n",
    ")\n",
    "plt.title(\"Correlação entre Duração Prevista e Investimento Total\")\n",
    "plt.xlabel(\"Duração Prevista (dias)\")\n",
    "plt.ylabel(\"Investimento Total (R$)\")\n",
    "plt.show()\n",
    "\n",
    "# Calculando o coeficiente de correlação\n",
    "correlation = df[~df[\"isInvestimentoSimbolico\"]][\"duracaoPrevista\"].corr(\n",
    "    df[~df[\"isInvestimentoSimbolico\"]][\"investimentoTotal\"]\n",
    ")\n",
    "print(f\"\\nCoeficiente de correlação: {correlation:.2f}\")"
   ]
  },
  {
   "cell_type": "markdown",
   "id": "dc1ddc06",
   "metadata": {},
   "source": [
    "Com mais casos de data final efetiva, seria possível investigar se os projetos atrasam em comparação com a data prevista.\n"
   ]
  },
  {
   "cell_type": "markdown",
   "id": "62d510a8",
   "metadata": {},
   "source": [
    "### NLP\n"
   ]
  },
  {
   "cell_type": "markdown",
   "id": "02a14d1f",
   "metadata": {},
   "source": [
    "...\n"
   ]
  },
  {
   "cell_type": "markdown",
   "id": "fbc98c81",
   "metadata": {},
   "source": [
    "### GIS\n"
   ]
  },
  {
   "cell_type": "markdown",
   "id": "e728e730",
   "metadata": {},
   "source": [
    "...\n"
   ]
  },
  {
   "cell_type": "code",
   "execution_count": null,
   "id": "9ab4d6d5",
   "metadata": {},
   "outputs": [],
   "source": []
  },
  {
   "cell_type": "markdown",
   "id": "9ab4d6d5",
   "metadata": {},
   "source": [
    "## Relatório\n"
   ]
  },
  {
   "cell_type": "markdown",
   "id": "cba026fc",
   "metadata": {},
   "source": [
    "Vários campos tem problema sistemáticos. Talvez o formulário seja confuso, talvez falte masking, talvez o campo não se aplique a um projeto. Isso precisaria ser investigado melhor. Para detalhes, ver seção `3.2 Qualidade`.\n",
    "\n",
    "Em termos de\n",
    "\n",
    "Os investimentos revelaram uma categoria implícita de investimento simbólico.\n",
    "\n",
    "Atenção aos maiores investimentos também é relevante.\n"
   ]
  },
  {
   "cell_type": "markdown",
   "id": "e9e0cf04",
   "metadata": {},
   "source": [
    "## Conclusão\n"
   ]
  }
 ],
 "metadata": {
  "kernelspec": {
   "display_name": ".venv",
   "language": "python",
   "name": "python3"
  },
  "language_info": {
   "codemirror_mode": {
    "name": "ipython",
    "version": 3
   },
   "file_extension": ".py",
   "mimetype": "text/x-python",
   "name": "python",
   "nbconvert_exporter": "python",
   "pygments_lexer": "ipython3",
   "version": "3.10.12"
  }
 },
 "nbformat": 4,
 "nbformat_minor": 5
}
